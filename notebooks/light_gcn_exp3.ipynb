{
 "cells": [
  {
   "attachments": {},
   "cell_type": "markdown",
   "metadata": {},
   "source": [
    "<i>Copyright (c) Microsoft Corporation. All rights reserved.</i>\n",
    "\n",
    "<i>Licensed under the MIT License.</i>\n",
    "\n",
    "<i>This notebook has been taken from Microsoft's recommender system library: [Source](https://github.com/microsoft/recommenders/blob/main/examples/02_model_collaborative_filtering/lightgcn_deep_dive.ipynb). It has been modified to fit the context of our study. The modifications include the addition of new evaluation methods, the ability to add new datasets, and cluster validation process.</i>"
   ]
  },
  {
   "attachments": {},
   "cell_type": "markdown",
   "metadata": {},
   "source": [
    "# LightGCN - simplified GCN model for recommendation\n",
    "\n",
    "This notebook serves as an introduction to LightGCN [1], which is an simple, linear and neat Graph Convolution Network (GCN) [3] model for recommendation."
   ]
  },
  {
   "attachments": {},
   "cell_type": "markdown",
   "metadata": {},
   "source": [
    "## 0 Global Settings and Imports"
   ]
  },
  {
   "cell_type": "code",
   "execution_count": 1,
   "metadata": {},
   "outputs": [
    {
     "name": "stdout",
     "output_type": "stream",
     "text": [
      "System version: 3.9.16 | packaged by conda-forge | (main, Feb  1 2023, 21:28:38) [MSC v.1929 64 bit (AMD64)]\n",
      "Pandas version: 1.5.3\n",
      "Tensorflow version: 2.12.0\n"
     ]
    }
   ],
   "source": [
    "import sys\n",
    "import os\n",
    "import codecs\n",
    "import scrapbook as sb\n",
    "import pandas as pd\n",
    "import numpy as np\n",
    "import tensorflow as tf\n",
    "tf.get_logger().setLevel('ERROR') # only show error messages\n",
    "\n",
    "from recommenders.utils.timer import Timer\n",
    "from recommenders.models.deeprec.models.graphrec.lightgcn import LightGCN\n",
    "from recommenders.models.deeprec.DataModel.ImplicitCF import ImplicitCF\n",
    "from recommenders.datasets import movielens\n",
    "from recommenders.datasets.python_splitters import python_stratified_split\n",
    "from recommenders.utils.constants import SEED as DEFAULT_SEED\n",
    "from recommenders.models.deeprec.deeprec_utils import prepare_hparams\n",
    "from recommenders.evaluation.python_evaluation import (\n",
    "    map_at_k,\n",
    "    ndcg_at_k,\n",
    "    precision_at_k,\n",
    "    recall_at_k,\n",
    "    serendipity,\n",
    "    user_serendipity,\n",
    "    user_item_serendipity,\n",
    "    catalog_coverage\n",
    ")\n",
    "\n",
    "print(\"System version: {}\".format(sys.version))\n",
    "print(\"Pandas version: {}\".format(pd.__version__))\n",
    "print(\"Tensorflow version: {}\".format(tf.__version__))\n",
    "os.chdir('../')"
   ]
  },
  {
   "cell_type": "code",
   "execution_count": 2,
   "metadata": {
    "tags": [
     "parameters"
    ]
   },
   "outputs": [],
   "source": [
    "# top k items to recommend\n",
    "TOP_K = 10\n",
    "\n",
    "# Select MovieLens data size: 100k, 1m, 10m, or 20m\n",
    "MOVIELENS_DATA_SIZE = '100k'\n",
    "\n",
    "# Model parameters\n",
    "EPOCHS = 50\n",
    "BATCH_SIZE = 1024\n",
    "\n",
    "SEED = DEFAULT_SEED  # Set None for non-deterministic results\n",
    "\n",
    "yaml_file = \"./models/lightgcn/config/lightgcn.yaml\"\n",
    "user_file = \"./models/lightgcn/output/tests/user_embeddings.csv\"\n",
    "item_file = \"./models/lightgcn/output/item_embeddings.csv\""
   ]
  },
  {
   "cell_type": "code",
   "execution_count": 3,
   "metadata": {},
   "outputs": [],
   "source": [
    "ratio = 0.85\n",
    "dataset = 'ml-100k'\n",
    "dataset_path = os.path.join('datasets', dataset)\n",
    "\n",
    "ratings_path = os.path.join(dataset_path, 'u.data')\n",
    "ratings_file = codecs.open(ratings_path, 'rU', 'UTF-8')\n",
    "df = pd.read_csv(ratings_file, sep='\\t', names=('userID', 'itemID', 'rating', 'timestamp'))\n",
    "\n",
    "# Normal train/test split (random portion) \n",
    "train, test = python_stratified_split(df, ratio=ratio)\n",
    "# train.to_csv('./output/exp-3/train.csv')\n",
    "# test.to_csv('./output/exp-3/test.csv')\n",
    "train_df = pd.read_csv('output/exp-3/train.csv')\n",
    "test_df = pd.read_csv('output/exp-3/test.csv')"
   ]
  },
  {
   "cell_type": "code",
   "execution_count": 4,
   "metadata": {},
   "outputs": [
    {
     "name": "stdout",
     "output_type": "stream",
     "text": [
      "Total groups: 8\n"
     ]
    }
   ],
   "source": [
    "clusters = pd.read_csv('./output/exp-3/clusters.csv', usecols=['user_id', 'cluster_shc', 'group_clusters'])\n",
    "train_clusters = train_df.reset_index().merge(clusters, left_on='userID', right_on='user_id').drop(columns=['user_id'])\n",
    "total_groups = set(clusters.group_clusters.to_list())\n",
    "print(\"Total groups:\", len(total_groups))"
   ]
  },
  {
   "cell_type": "code",
   "execution_count": 5,
   "metadata": {},
   "outputs": [],
   "source": [
    "# Target group cluster (we iterate over all of them in every run)\n",
    "target_group = 4\n",
    "\n",
    "# Train data\n",
    "target_group_df = train_clusters[train_clusters['group_clusters'] == target_group]\n",
    "train = target_group_df[['userID', 'itemID', 'rating', 'timestamp']]\n",
    "\n",
    "# Test data Choose only ratings that can be predicted\n",
    "users_in_train = list(set(train.userID.to_list()))\n",
    "test = test_df[test_df.userID.isin(users_in_train)]"
   ]
  },
  {
   "cell_type": "code",
   "execution_count": 6,
   "metadata": {},
   "outputs": [
    {
     "name": "stdout",
     "output_type": "stream",
     "text": [
      "total users in main dataset: 943\n",
      "total users in train dataset: 74\n",
      "total users in test dataset: 74\n"
     ]
    }
   ],
   "source": [
    "print(\"total users in main dataset:\", len(list(set(df.userID.to_list()))))\n",
    "print(\"total users in train dataset:\", len(list(set(train.userID.to_list()))))\n",
    "print(\"total users in test dataset:\", len(list(set(test.userID.to_list()))))\n",
    "# train = train.set_index('index')\n",
    "# test = test.set_index('index')"
   ]
  },
  {
   "cell_type": "code",
   "execution_count": 7,
   "metadata": {},
   "outputs": [
    {
     "data": {
      "text/html": [
       "<div>\n",
       "<style scoped>\n",
       "    .dataframe tbody tr th:only-of-type {\n",
       "        vertical-align: middle;\n",
       "    }\n",
       "\n",
       "    .dataframe tbody tr th {\n",
       "        vertical-align: top;\n",
       "    }\n",
       "\n",
       "    .dataframe thead th {\n",
       "        text-align: right;\n",
       "    }\n",
       "</style>\n",
       "<table border=\"1\" class=\"dataframe\">\n",
       "  <thead>\n",
       "    <tr style=\"text-align: right;\">\n",
       "      <th></th>\n",
       "      <th>userID</th>\n",
       "      <th>itemID</th>\n",
       "      <th>rating</th>\n",
       "      <th>timestamp</th>\n",
       "    </tr>\n",
       "  </thead>\n",
       "  <tbody>\n",
       "    <tr>\n",
       "      <th>2155</th>\n",
       "      <td>16</td>\n",
       "      <td>684</td>\n",
       "      <td>5</td>\n",
       "      <td>877719863</td>\n",
       "    </tr>\n",
       "    <tr>\n",
       "      <th>2156</th>\n",
       "      <td>16</td>\n",
       "      <td>195</td>\n",
       "      <td>5</td>\n",
       "      <td>877720298</td>\n",
       "    </tr>\n",
       "    <tr>\n",
       "      <th>2157</th>\n",
       "      <td>16</td>\n",
       "      <td>96</td>\n",
       "      <td>5</td>\n",
       "      <td>877717833</td>\n",
       "    </tr>\n",
       "    <tr>\n",
       "      <th>2158</th>\n",
       "      <td>16</td>\n",
       "      <td>71</td>\n",
       "      <td>5</td>\n",
       "      <td>877721071</td>\n",
       "    </tr>\n",
       "    <tr>\n",
       "      <th>2159</th>\n",
       "      <td>16</td>\n",
       "      <td>160</td>\n",
       "      <td>4</td>\n",
       "      <td>877722001</td>\n",
       "    </tr>\n",
       "    <tr>\n",
       "      <th>...</th>\n",
       "      <td>...</td>\n",
       "      <td>...</td>\n",
       "      <td>...</td>\n",
       "      <td>...</td>\n",
       "    </tr>\n",
       "    <tr>\n",
       "      <th>84528</th>\n",
       "      <td>936</td>\n",
       "      <td>248</td>\n",
       "      <td>4</td>\n",
       "      <td>886833006</td>\n",
       "    </tr>\n",
       "    <tr>\n",
       "      <th>84529</th>\n",
       "      <td>936</td>\n",
       "      <td>246</td>\n",
       "      <td>4</td>\n",
       "      <td>886832282</td>\n",
       "    </tr>\n",
       "    <tr>\n",
       "      <th>84530</th>\n",
       "      <td>936</td>\n",
       "      <td>1097</td>\n",
       "      <td>5</td>\n",
       "      <td>886833795</td>\n",
       "    </tr>\n",
       "    <tr>\n",
       "      <th>84531</th>\n",
       "      <td>936</td>\n",
       "      <td>845</td>\n",
       "      <td>4</td>\n",
       "      <td>886833006</td>\n",
       "    </tr>\n",
       "    <tr>\n",
       "      <th>84532</th>\n",
       "      <td>936</td>\n",
       "      <td>259</td>\n",
       "      <td>3</td>\n",
       "      <td>886831709</td>\n",
       "    </tr>\n",
       "  </tbody>\n",
       "</table>\n",
       "<p>12159 rows × 4 columns</p>\n",
       "</div>"
      ],
      "text/plain": [
       "       userID  itemID  rating  timestamp\n",
       "2155       16     684       5  877719863\n",
       "2156       16     195       5  877720298\n",
       "2157       16      96       5  877717833\n",
       "2158       16      71       5  877721071\n",
       "2159       16     160       4  877722001\n",
       "...       ...     ...     ...        ...\n",
       "84528     936     248       4  886833006\n",
       "84529     936     246       4  886832282\n",
       "84530     936    1097       5  886833795\n",
       "84531     936     845       4  886833006\n",
       "84532     936     259       3  886831709\n",
       "\n",
       "[12159 rows x 4 columns]"
      ]
     },
     "execution_count": 7,
     "metadata": {},
     "output_type": "execute_result"
    }
   ],
   "source": [
    "train"
   ]
  },
  {
   "cell_type": "code",
   "execution_count": 8,
   "metadata": {},
   "outputs": [
    {
     "data": {
      "text/plain": [
       "{9, 10}"
      ]
     },
     "execution_count": 8,
     "metadata": {},
     "output_type": "execute_result"
    }
   ],
   "source": [
    "set(train_clusters[train_clusters['group_clusters'] == target_group].cluster_shc.to_list())"
   ]
  },
  {
   "attachments": {},
   "cell_type": "markdown",
   "metadata": {},
   "source": [
    "### 2.2 Process data\n",
    "\n",
    "`ImplicitCF` is a class that intializes and loads data for the training process. During the initialization of this class, user IDs and item IDs are reindexed, ratings greater than zero are converted into implicit positive interaction, and adjacency matrix $R$ of user-item graph is created. Some important methods of `ImplicitCF` are:\n",
    "\n",
    "`get_norm_adj_mat`, load normalized adjacency matrix of user-item graph if it already exists in `adj_dir`, otherwise call `create_norm_adj_mat` to create the matrix and save the matrix if `adj_dir` is not `None`. This method will be called during the initialization process of LightGCN model.\n",
    "\n",
    "`create_norm_adj_mat`, create normalized adjacency matrix of user-item graph by calculating $D^{-\\frac{1}{2}} A D^{-\\frac{1}{2}}$, where $\\mathbf{A}=\\left(\\begin{array}{cc}\\mathbf{0} & \\mathbf{R} \\\\ \\mathbf{R}^{T} & \\mathbf{0}\\end{array}\\right)$.\n",
    "\n",
    "`train_loader`, generate a batch of training data — sample a batch of users and then sample one positive item and one negative item for each user. This method will be called before each epoch of the training process.\n"
   ]
  },
  {
   "cell_type": "code",
   "execution_count": 9,
   "metadata": {},
   "outputs": [
    {
     "name": "stderr",
     "output_type": "stream",
     "text": [
      "C:\\Users\\wessa\\AppData\\Roaming\\Python\\Python39\\site-packages\\recommenders\\models\\deeprec\\DataModel\\ImplicitCF.py:73: FutureWarning: The frame.append method is deprecated and will be removed from pandas in a future version. Use pandas.concat instead.\n",
      "  df = train if test is None else train.append(test)\n"
     ]
    }
   ],
   "source": [
    "data = ImplicitCF(train=train, test=test, seed=SEED)"
   ]
  },
  {
   "attachments": {},
   "cell_type": "markdown",
   "metadata": {},
   "source": [
    "### 2.3 Prepare hyper-parameters\n",
    "\n",
    "Important parameters of `LightGCN` model are:\n",
    "\n",
    "`data`, initialized LightGCNDataset object.\n",
    "\n",
    "`epochs`, number of epochs for training.\n",
    "\n",
    "`n_layers`, number of layers of the model.\n",
    "\n",
    "`eval_epoch`, if it is not None, evaluation metrics will be calculated on test set every \"eval_epoch\" epochs. In this way, we can observe the effect of the model during the training process.\n",
    "\n",
    "`top_k`, the number of items to be recommended for each user when calculating ranking metrics.\n",
    "\n",
    "A complete list of parameters can be found in `yaml_file`. We use `prepare_hparams` to read the yaml file and prepare a full set of parameters for the model. Parameters passed as the function's parameters will overwrite yaml settings."
   ]
  },
  {
   "cell_type": "code",
   "execution_count": 10,
   "metadata": {},
   "outputs": [],
   "source": [
    "hparams = prepare_hparams(\n",
    "    yaml_file,\n",
    "    n_layers=3,\n",
    "    batch_size=BATCH_SIZE,\n",
    "    epochs=EPOCHS,\n",
    "    learning_rate=0.005,\n",
    "    eval_epoch=5,\n",
    "    top_k=TOP_K,\n",
    ")"
   ]
  },
  {
   "attachments": {},
   "cell_type": "markdown",
   "metadata": {},
   "source": [
    "### 2.4 Create and train model\n",
    "\n",
    "With data and parameters prepared, we can create the LightGCN model.\n",
    "\n",
    "To train the model, we simply need to call the `fit()` method."
   ]
  },
  {
   "cell_type": "code",
   "execution_count": 11,
   "metadata": {},
   "outputs": [
    {
     "name": "stdout",
     "output_type": "stream",
     "text": [
      "Already create adjacency matrix.\n",
      "Already normalize adjacency matrix.\n",
      "Using xavier initialization.\n"
     ]
    }
   ],
   "source": [
    "model = LightGCN(hparams, data, seed=SEED)"
   ]
  },
  {
   "cell_type": "code",
   "execution_count": 12,
   "metadata": {},
   "outputs": [
    {
     "name": "stdout",
     "output_type": "stream",
     "text": [
      "Epoch 1 (train)0.5s: train loss = 0.68441 = (mf)0.68435 + (embed)0.00006\n",
      "Epoch 2 (train)0.3s: train loss = 0.62025 = (mf)0.62015 + (embed)0.00010\n",
      "Epoch 3 (train)0.3s: train loss = 0.49942 = (mf)0.49922 + (embed)0.00020\n",
      "Epoch 4 (train)0.3s: train loss = 0.41699 = (mf)0.41665 + (embed)0.00033\n",
      "Epoch 5 (train)0.3s + (eval)0.1s: train loss = 0.38625 = (mf)0.38580 + (embed)0.00045, recall = 0.11066, ndcg = 0.36671, precision = 0.32838, map = 0.07198\n",
      "Epoch 6 (train)0.3s: train loss = 0.39655 = (mf)0.39604 + (embed)0.00051\n",
      "Epoch 7 (train)0.3s: train loss = 0.39031 = (mf)0.38979 + (embed)0.00052\n",
      "Epoch 8 (train)0.3s: train loss = 0.37158 = (mf)0.37104 + (embed)0.00053\n",
      "Epoch 9 (train)0.3s: train loss = 0.35814 = (mf)0.35758 + (embed)0.00056\n",
      "Epoch 10 (train)0.3s + (eval)0.1s: train loss = 0.34866 = (mf)0.34805 + (embed)0.00061, recall = 0.11242, ndcg = 0.36561, precision = 0.32838, map = 0.07114\n",
      "Epoch 11 (train)0.3s: train loss = 0.32700 = (mf)0.32633 + (embed)0.00067\n",
      "Epoch 12 (train)0.3s: train loss = 0.33107 = (mf)0.33034 + (embed)0.00073\n",
      "Epoch 13 (train)0.3s: train loss = 0.32804 = (mf)0.32726 + (embed)0.00078\n",
      "Epoch 14 (train)0.3s: train loss = 0.31136 = (mf)0.31051 + (embed)0.00084\n",
      "Epoch 15 (train)0.3s + (eval)0.1s: train loss = 0.30065 = (mf)0.29974 + (embed)0.00091, recall = 0.12539, ndcg = 0.39849, precision = 0.36892, map = 0.08152\n",
      "Epoch 16 (train)0.3s: train loss = 0.29572 = (mf)0.29473 + (embed)0.00098\n",
      "Epoch 17 (train)0.3s: train loss = 0.28281 = (mf)0.28175 + (embed)0.00106\n",
      "Epoch 18 (train)0.3s: train loss = 0.27127 = (mf)0.27014 + (embed)0.00113\n",
      "Epoch 19 (train)0.3s: train loss = 0.26765 = (mf)0.26644 + (embed)0.00121\n",
      "Epoch 20 (train)0.3s + (eval)0.0s: train loss = 0.25887 = (mf)0.25758 + (embed)0.00129, recall = 0.13823, ndcg = 0.41943, precision = 0.39865, map = 0.08992\n",
      "Epoch 21 (train)0.3s: train loss = 0.25582 = (mf)0.25446 + (embed)0.00136\n",
      "Epoch 22 (train)0.3s: train loss = 0.24973 = (mf)0.24829 + (embed)0.00143\n",
      "Epoch 23 (train)0.3s: train loss = 0.24516 = (mf)0.24365 + (embed)0.00152\n",
      "Epoch 24 (train)0.3s: train loss = 0.24335 = (mf)0.24176 + (embed)0.00159\n",
      "Epoch 25 (train)0.3s + (eval)0.1s: train loss = 0.23618 = (mf)0.23453 + (embed)0.00165, recall = 0.13457, ndcg = 0.41358, precision = 0.38784, map = 0.09013\n",
      "Epoch 26 (train)0.3s: train loss = 0.22901 = (mf)0.22729 + (embed)0.00173\n",
      "Epoch 27 (train)0.3s: train loss = 0.23546 = (mf)0.23367 + (embed)0.00180\n",
      "Epoch 28 (train)0.3s: train loss = 0.23087 = (mf)0.22900 + (embed)0.00187\n",
      "Epoch 29 (train)0.3s: train loss = 0.23318 = (mf)0.23125 + (embed)0.00193\n",
      "Epoch 30 (train)0.3s + (eval)0.0s: train loss = 0.22569 = (mf)0.22370 + (embed)0.00199, recall = 0.13226, ndcg = 0.41019, precision = 0.38243, map = 0.08840\n",
      "Epoch 31 (train)0.3s: train loss = 0.22447 = (mf)0.22239 + (embed)0.00207\n",
      "Epoch 32 (train)0.3s: train loss = 0.21631 = (mf)0.21417 + (embed)0.00214\n",
      "Epoch 33 (train)0.3s: train loss = 0.20547 = (mf)0.20325 + (embed)0.00222\n",
      "Epoch 34 (train)0.3s: train loss = 0.21199 = (mf)0.20968 + (embed)0.00231\n",
      "Epoch 35 (train)0.3s + (eval)0.0s: train loss = 0.20811 = (mf)0.20573 + (embed)0.00238, recall = 0.13329, ndcg = 0.41469, precision = 0.38378, map = 0.09070\n",
      "Epoch 36 (train)0.3s: train loss = 0.20143 = (mf)0.19897 + (embed)0.00246\n",
      "Epoch 37 (train)0.3s: train loss = 0.19725 = (mf)0.19470 + (embed)0.00254\n",
      "Epoch 38 (train)0.3s: train loss = 0.19608 = (mf)0.19345 + (embed)0.00263\n",
      "Epoch 39 (train)0.3s: train loss = 0.18881 = (mf)0.18611 + (embed)0.00270\n",
      "Epoch 40 (train)0.3s + (eval)0.0s: train loss = 0.19441 = (mf)0.19162 + (embed)0.00279, recall = 0.14166, ndcg = 0.43223, precision = 0.40541, map = 0.09479\n",
      "Epoch 41 (train)0.3s: train loss = 0.18917 = (mf)0.18629 + (embed)0.00287\n",
      "Epoch 42 (train)0.3s: train loss = 0.18243 = (mf)0.17947 + (embed)0.00296\n",
      "Epoch 43 (train)0.3s: train loss = 0.17666 = (mf)0.17360 + (embed)0.00305\n",
      "Epoch 44 (train)0.3s: train loss = 0.17615 = (mf)0.17299 + (embed)0.00316\n",
      "Epoch 45 (train)0.2s + (eval)0.0s: train loss = 0.16799 = (mf)0.16474 + (embed)0.00325, recall = 0.14026, ndcg = 0.43372, precision = 0.40000, map = 0.09487\n",
      "Epoch 46 (train)0.3s: train loss = 0.16787 = (mf)0.16452 + (embed)0.00335\n",
      "Epoch 47 (train)0.3s: train loss = 0.16167 = (mf)0.15822 + (embed)0.00345\n",
      "Epoch 48 (train)0.3s: train loss = 0.15699 = (mf)0.15342 + (embed)0.00356\n",
      "Epoch 49 (train)0.3s: train loss = 0.15799 = (mf)0.15434 + (embed)0.00366\n",
      "Epoch 50 (train)0.3s + (eval)0.0s: train loss = 0.15847 = (mf)0.15474 + (embed)0.00374, recall = 0.13855, ndcg = 0.42329, precision = 0.39595, map = 0.09266\n",
      "Took 14.856566400000002 seconds for training.\n"
     ]
    }
   ],
   "source": [
    "with Timer() as train_time:\n",
    "    model.fit()\n",
    "\n",
    "print(\"Took {} seconds for training.\".format(train_time.interval))"
   ]
  },
  {
   "attachments": {},
   "cell_type": "markdown",
   "metadata": {},
   "source": [
    "### 2.5 Recommendation and Evaluation"
   ]
  },
  {
   "attachments": {},
   "cell_type": "markdown",
   "metadata": {},
   "source": [
    "Recommendation and evaluation have been performed on the specified test set during training. After training, we can also use the model to perform recommendation and evalution on other data. Here we still use `test` as test data, but `test` can be replaced by other data with similar data structure."
   ]
  },
  {
   "attachments": {},
   "cell_type": "markdown",
   "metadata": {},
   "source": [
    "#### 2.5.1 Recommendation\n",
    "\n",
    "We can call `recommend_k_items` to recommend k items for each user passed in this function. We set `remove_seen=True` to remove the items already seen by the user. The function returns a dataframe, containing each user and top k items recommended to them and the corresponding ranking scores."
   ]
  },
  {
   "cell_type": "code",
   "execution_count": 13,
   "metadata": {},
   "outputs": [
    {
     "data": {
      "text/html": [
       "<div>\n",
       "<style scoped>\n",
       "    .dataframe tbody tr th:only-of-type {\n",
       "        vertical-align: middle;\n",
       "    }\n",
       "\n",
       "    .dataframe tbody tr th {\n",
       "        vertical-align: top;\n",
       "    }\n",
       "\n",
       "    .dataframe thead th {\n",
       "        text-align: right;\n",
       "    }\n",
       "</style>\n",
       "<table border=\"1\" class=\"dataframe\">\n",
       "  <thead>\n",
       "    <tr style=\"text-align: right;\">\n",
       "      <th></th>\n",
       "      <th>userID</th>\n",
       "      <th>itemID</th>\n",
       "      <th>prediction</th>\n",
       "    </tr>\n",
       "  </thead>\n",
       "  <tbody>\n",
       "    <tr>\n",
       "      <th>0</th>\n",
       "      <td>16</td>\n",
       "      <td>181</td>\n",
       "      <td>7.367435</td>\n",
       "    </tr>\n",
       "    <tr>\n",
       "      <th>1</th>\n",
       "      <td>16</td>\n",
       "      <td>204</td>\n",
       "      <td>7.005498</td>\n",
       "    </tr>\n",
       "    <tr>\n",
       "      <th>2</th>\n",
       "      <td>16</td>\n",
       "      <td>98</td>\n",
       "      <td>6.875683</td>\n",
       "    </tr>\n",
       "    <tr>\n",
       "      <th>3</th>\n",
       "      <td>16</td>\n",
       "      <td>50</td>\n",
       "      <td>6.663816</td>\n",
       "    </tr>\n",
       "    <tr>\n",
       "      <th>4</th>\n",
       "      <td>16</td>\n",
       "      <td>423</td>\n",
       "      <td>6.335790</td>\n",
       "    </tr>\n",
       "  </tbody>\n",
       "</table>\n",
       "</div>"
      ],
      "text/plain": [
       "   userID  itemID  prediction\n",
       "0      16     181    7.367435\n",
       "1      16     204    7.005498\n",
       "2      16      98    6.875683\n",
       "3      16      50    6.663816\n",
       "4      16     423    6.335790"
      ]
     },
     "execution_count": 13,
     "metadata": {},
     "output_type": "execute_result"
    }
   ],
   "source": [
    "topk_scores = model.recommend_k_items(test, top_k=TOP_K, remove_seen=True)\n",
    "topk_scores.head()"
   ]
  },
  {
   "attachments": {},
   "cell_type": "markdown",
   "metadata": {},
   "source": [
    "#### 2.5.2 Evaluation\n",
    "\n",
    "With `topk_scores` predicted by the model, we can evaluate how LightGCN performs on this test set."
   ]
  },
  {
   "cell_type": "code",
   "execution_count": 14,
   "metadata": {},
   "outputs": [
    {
     "name": "stdout",
     "output_type": "stream",
     "text": [
      "{\n",
      "    \"MAP\": 0.09266109401079152,\n",
      "    \"NDCG\": 0.42329024268365295,\n",
      "    \"Precision\": 0.3959459459459459,\n",
      "    \"Recall\": 0.13855069363977604,\n",
      "    \"User Serendipity\": 0.6365577169930396,\n",
      "    \"Coverage\": 0.19059205190592052\n",
      "}\n"
     ]
    }
   ],
   "source": [
    "import json\n",
    "\n",
    "eval_map = map_at_k(test, topk_scores, k=TOP_K)\n",
    "eval_ndcg = ndcg_at_k(test, topk_scores, k=TOP_K)\n",
    "eval_precision = precision_at_k(test, topk_scores, k=TOP_K)\n",
    "eval_recall = recall_at_k(test, topk_scores, k=TOP_K)\n",
    "eval_serendipity = serendipity(train, topk_scores)\n",
    "eval_coverage = catalog_coverage(train, topk_scores)\n",
    "\n",
    "metric_results = {\n",
    "    'MAP': eval_map,\n",
    "    'NDCG': eval_ndcg,\n",
    "    'Precision': eval_precision,\n",
    "    'Recall': eval_recall,\n",
    "    'User Serendipity': eval_serendipity,\n",
    "    'Coverage': eval_coverage\n",
    "}\n",
    "\n",
    "print(json.dumps(metric_results, indent=4))\n",
    "with open(\"./output/exp-3/metric_results.txt\", \"w\") as fp:\n",
    "    json.dump(metric_results, fp, indent=4)"
   ]
  },
  {
   "cell_type": "code",
   "execution_count": 15,
   "metadata": {},
   "outputs": [],
   "source": [
    "# load clusters if not previously loaded\n",
    "# clusters = pd.read_csv('./output/exp-2/group_clusters.csv', usecols=['user_id', 'group'])\n",
    "\n",
    "# get per-user serendipity score\n",
    "eval_serendipity = user_serendipity(train, topk_scores)\n",
    "\n",
    "# calculate per-cluster serendipity score\n",
    "eval_serendipity_clulsters = clusters.merge(eval_serendipity, left_on='user_id', right_on='userID').drop(columns=['userID'])\n",
    "cluster_serendipity = eval_serendipity_clulsters.groupby('cluster_shc').mean()\n",
    "cluster_serendipity[['user_serendipity']].to_csv('./output/exp-3/cluster_serendipity.csv')"
   ]
  },
  {
   "cell_type": "code",
   "execution_count": 16,
   "metadata": {},
   "outputs": [],
   "source": [
    "eval_serendipity.to_csv('./output/exp-3/user_serendipity.csv', index=False)"
   ]
  },
  {
   "attachments": {},
   "cell_type": "markdown",
   "metadata": {},
   "source": [
    "### 2.6 Infer embeddings\n",
    "\n",
    "With `infer_embedding` method of LightGCN model, we can export the embeddings of users and items in the training set to CSV files for future use."
   ]
  },
  {
   "cell_type": "code",
   "execution_count": null,
   "metadata": {},
   "outputs": [],
   "source": [
    "model.infer_embedding(user_file, item_file)"
   ]
  },
  {
   "attachments": {},
   "cell_type": "markdown",
   "metadata": {},
   "source": [
    "## 3. Compare LightGCN with SAR and NCF\n",
    "\n",
    "Here there are the performances of LightGCN compared to [SAR](../00_quick_start/sar_movielens.ipynb) and [NCF](../00_quick_start/ncf_movielens.ipynb) on MovieLens dataset of 100k and 1m. The method of data loading and splitting is the same as that described above and the GPU used was a GeForce GTX 1080Ti.\n",
    "\n",
    "Settings common to the three models: `epochs=15, seed=42`.\n",
    "\n",
    "Settings for LightGCN: `embed_size=64, n_layers=3, batch_size=1024, decay=0.0001, learning_rate=0.015 `.\n",
    "\n",
    "Settings for SAR: `similarity_type=\"jaccard\", time_decay_coefficient=30, time_now=None, timedecay_formula=True`.\n",
    "\n",
    "Settings for NCF: `n_factors=4, layer_sizes=[16, 8, 4], batch_size=1024, learning_rate=0.001`.\n",
    "\n",
    "| Data Size | Model    | Training time | Recommending time | MAP@10   | nDCG@10  | Precision@10 | Recall@10 |\n",
    "| --------- | -------- | ------------- | ----------------- | -------- | -------- | ------------ | --------- |\n",
    "| 100k      | LightGCN | 27.8865       | 0.6445            | 0.129236 | 0.436297 | 0.381866     | 0.205816  |\n",
    "| 100k      | SAR      | 0.4895        | 0.1144            | 0.110591 | 0.382461 | 0.330753     | 0.176385  |\n",
    "| 100k      | NCF      | 116.3174      | 7.7660            | 0.105725 | 0.387603 | 0.342100     | 0.174580  |\n",
    "| 1m        | LightGCN | 396.7298      | 1.4343            | 0.075012 | 0.377501 | 0.345679     | 0.128096  |\n",
    "| 1m        | SAR      | 4.5593        | 2.8357            | 0.060579 | 0.299245 | 0.270116     | 0.104350  |\n",
    "| 1m        | NCF      | 1601.5846     | 85.4567           | 0.062821 | 0.348770 | 0.320613     | 0.108121  |\n",
    "\n",
    "From the above results, we can see that LightGCN performs better than the other two models."
   ]
  },
  {
   "attachments": {},
   "cell_type": "markdown",
   "metadata": {},
   "source": [
    "### References: \n",
    "1. Xiangnan He, Kuan Deng, Xiang Wang, Yan Li, Yongdong Zhang & Meng Wang, LightGCN: Simplifying and Powering Graph Convolution Network for Recommendation, 2020, https://arxiv.org/abs/2002.02126\n",
    "2. LightGCN implementation [TensorFlow]: https://github.com/kuandeng/lightgcn\n",
    "3. Thomas N. Kipf and Max Welling, Semi-Supervised Classification with Graph Convolutional Networks, ICLR, 2017, https://arxiv.org/abs/1609.02907\n",
    "4. Xiang Wang, Xiangnan He, Meng Wang, Fuli Feng, and Tat-Seng Chua, Neural Graph Collaborative Filtering, SIGIR, 2019, https://arxiv.org/abs/1905.08108\n",
    "5. Y. Koren, R. Bell and C. Volinsky, \"Matrix Factorization Techniques for Recommender Systems\", in Computer, vol. 42, no. 8, pp. 30-37, Aug. 2009, doi: 10.1109/MC.2009.263.  url: https://datajobs.com/data-science-repo/Recommender-Systems-%5BNetflix%5D.pdf"
   ]
  }
 ],
 "metadata": {
  "celltoolbar": "Tags",
  "interpreter": {
   "hash": "3a9a0c422ff9f08d62211b9648017c63b0a26d2c935edc37ebb8453675d13bb5"
  },
  "kernelspec": {
   "display_name": "Python 3.7.11 64-bit ('tf2': conda)",
   "name": "python3"
  },
  "language_info": {
   "codemirror_mode": {
    "name": "ipython",
    "version": 3
   },
   "file_extension": ".py",
   "mimetype": "text/x-python",
   "name": "python",
   "nbconvert_exporter": "python",
   "pygments_lexer": "ipython3",
   "version": "3.9.16"
  }
 },
 "nbformat": 4,
 "nbformat_minor": 2
}
