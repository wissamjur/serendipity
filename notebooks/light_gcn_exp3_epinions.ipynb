{
 "cells": [
  {
   "attachments": {},
   "cell_type": "markdown",
   "metadata": {},
   "source": [
    "<i>Copyright (c) Microsoft Corporation. All rights reserved.</i>\n",
    "\n",
    "<i>Licensed under the MIT License.</i>\n",
    "\n",
    "<i>This notebook has been taken from Microsoft's recommender system library: [Source](https://github.com/microsoft/recommenders/blob/main/examples/02_model_collaborative_filtering/lightgcn_deep_dive.ipynb). It has been modified to fit the context of our study. The modifications include the addition of new evaluation methods, the ability to add new datasets, and cluster validation process.</i>"
   ]
  },
  {
   "attachments": {},
   "cell_type": "markdown",
   "metadata": {},
   "source": [
    "# LightGCN - simplified GCN model for recommendation\n",
    "\n",
    "This notebook serves as an introduction to LightGCN [1], which is an simple, linear and neat Graph Convolution Network (GCN) [3] model for recommendation."
   ]
  },
  {
   "attachments": {},
   "cell_type": "markdown",
   "metadata": {},
   "source": [
    "## 0 Global Settings and Imports"
   ]
  },
  {
   "cell_type": "code",
   "execution_count": 1,
   "metadata": {},
   "outputs": [
    {
     "name": "stdout",
     "output_type": "stream",
     "text": [
      "System version: 3.9.16 | packaged by conda-forge | (main, Feb  1 2023, 21:28:38) [MSC v.1929 64 bit (AMD64)]\n",
      "Pandas version: 1.5.3\n",
      "Tensorflow version: 2.12.0\n"
     ]
    }
   ],
   "source": [
    "import sys\n",
    "import os\n",
    "import codecs\n",
    "import scrapbook as sb\n",
    "import pandas as pd\n",
    "import numpy as np\n",
    "import tensorflow as tf\n",
    "tf.get_logger().setLevel('ERROR') # only show error messages\n",
    "\n",
    "from recommenders.utils.timer import Timer\n",
    "from recommenders.models.deeprec.models.graphrec.lightgcn import LightGCN\n",
    "from recommenders.models.deeprec.DataModel.ImplicitCF import ImplicitCF\n",
    "from recommenders.datasets import movielens\n",
    "from recommenders.datasets.python_splitters import python_stratified_split\n",
    "from recommenders.utils.constants import SEED as DEFAULT_SEED\n",
    "from recommenders.models.deeprec.deeprec_utils import prepare_hparams\n",
    "from recommenders.evaluation.python_evaluation import (\n",
    "    map_at_k,\n",
    "    ndcg_at_k,\n",
    "    precision_at_k,\n",
    "    recall_at_k,\n",
    "    serendipity,\n",
    "    user_serendipity,\n",
    "    user_item_serendipity,\n",
    "    catalog_coverage\n",
    ")\n",
    "\n",
    "print(\"System version: {}\".format(sys.version))\n",
    "print(\"Pandas version: {}\".format(pd.__version__))\n",
    "print(\"Tensorflow version: {}\".format(tf.__version__))\n",
    "os.chdir('../')"
   ]
  },
  {
   "cell_type": "code",
   "execution_count": 2,
   "metadata": {
    "tags": [
     "parameters"
    ]
   },
   "outputs": [],
   "source": [
    "# top k items to recommend\n",
    "TOP_K = 10\n",
    "\n",
    "# Model parameters\n",
    "EPOCHS = 50\n",
    "BATCH_SIZE = 1024\n",
    "\n",
    "SEED = DEFAULT_SEED  # Set None for non-deterministic results\n",
    "\n",
    "yaml_file = \"./models/lightgcn/config/lightgcn.yaml\"\n",
    "user_file = \"./models/lightgcn/output/tests/user_embeddings.csv\"\n",
    "item_file = \"./models/lightgcn/output/item_embeddings.csv\""
   ]
  },
  {
   "cell_type": "code",
   "execution_count": 4,
   "metadata": {},
   "outputs": [
    {
     "name": "stdout",
     "output_type": "stream",
     "text": [
      "Total groups: 22\n"
     ]
    }
   ],
   "source": [
    "dataset = 'epinions'\n",
    "dataset_path = os.path.join('datasets', dataset, 'v1')\n",
    "ratings_path = os.path.join(dataset_path, 'ratings.csv')\n",
    "ratings_df = pd.read_csv(ratings_path)\n",
    "\n",
    "clusters = pd.read_csv('./output/exp-3-epinions/clusters/clusters.csv', usecols=['userID', 'cluster_shc', 'group_clusters'])\n",
    "total_groups = set(clusters.group_clusters.to_list())\n",
    "print(\"Total groups:\", len(total_groups))"
   ]
  },
  {
   "cell_type": "code",
   "execution_count": 7,
   "metadata": {},
   "outputs": [],
   "source": [
    "df = ratings_df\n",
    "ratio = 0.85\n",
    "\n",
    "# # Normal train/test split (random portion) - run this and save the files for different tests (cluster iterations)\n",
    "# train, test = python_stratified_split(df, ratio=ratio)\n",
    "# train.to_csv('./output/exp-3-epinions/train.csv')\n",
    "# test.to_csv('./output/exp-3-epinions/test.csv')\n",
    "\n",
    "train_df = pd.read_csv('output/exp-3-epinions/train.csv').rename(columns={'Unnamed: 0': 'index'})\n",
    "test_df = pd.read_csv('output/exp-3-epinions/test.csv').rename(columns={'Unnamed: 0': 'index'})\n",
    "train = train_df.set_index('index')\n",
    "test = test_df.set_index('index')"
   ]
  },
  {
   "cell_type": "code",
   "execution_count": 8,
   "metadata": {},
   "outputs": [
    {
     "name": "stdout",
     "output_type": "stream",
     "text": [
      "total users in main dataset: 1620\n",
      "total users in train dataset: 1620\n",
      "total users in test dataset: 1620\n"
     ]
    }
   ],
   "source": [
    "print(\"total users in main dataset:\", len(list(set(df.userID.to_list()))))\n",
    "print(\"total users in train dataset:\", len(list(set(train.userID.to_list()))))\n",
    "print(\"total users in test dataset:\", len(list(set(test.userID.to_list()))))\n",
    "# train = train.set_index('index')\n",
    "# test = test.set_index('index')"
   ]
  },
  {
   "attachments": {},
   "cell_type": "markdown",
   "metadata": {},
   "source": [
    "### 2.2 Process data\n",
    "\n",
    "`ImplicitCF` is a class that intializes and loads data for the training process. During the initialization of this class, user IDs and item IDs are reindexed, ratings greater than zero are converted into implicit positive interaction, and adjacency matrix $R$ of user-item graph is created. Some important methods of `ImplicitCF` are:\n",
    "\n",
    "`get_norm_adj_mat`, load normalized adjacency matrix of user-item graph if it already exists in `adj_dir`, otherwise call `create_norm_adj_mat` to create the matrix and save the matrix if `adj_dir` is not `None`. This method will be called during the initialization process of LightGCN model.\n",
    "\n",
    "`create_norm_adj_mat`, create normalized adjacency matrix of user-item graph by calculating $D^{-\\frac{1}{2}} A D^{-\\frac{1}{2}}$, where $\\mathbf{A}=\\left(\\begin{array}{cc}\\mathbf{0} & \\mathbf{R} \\\\ \\mathbf{R}^{T} & \\mathbf{0}\\end{array}\\right)$.\n",
    "\n",
    "`train_loader`, generate a batch of training data — sample a batch of users and then sample one positive item and one negative item for each user. This method will be called before each epoch of the training process.\n"
   ]
  },
  {
   "cell_type": "code",
   "execution_count": 9,
   "metadata": {},
   "outputs": [
    {
     "name": "stderr",
     "output_type": "stream",
     "text": [
      "C:\\Users\\wessa\\AppData\\Roaming\\Python\\Python39\\site-packages\\recommenders\\models\\deeprec\\DataModel\\ImplicitCF.py:73: FutureWarning: The frame.append method is deprecated and will be removed from pandas in a future version. Use pandas.concat instead.\n",
      "  df = train if test is None else train.append(test)\n"
     ]
    }
   ],
   "source": [
    "data = ImplicitCF(train=train, test=test, seed=SEED)"
   ]
  },
  {
   "attachments": {},
   "cell_type": "markdown",
   "metadata": {},
   "source": [
    "### 2.3 Prepare hyper-parameters\n",
    "\n",
    "Important parameters of `LightGCN` model are:\n",
    "\n",
    "`data`, initialized LightGCNDataset object.\n",
    "\n",
    "`epochs`, number of epochs for training.\n",
    "\n",
    "`n_layers`, number of layers of the model.\n",
    "\n",
    "`eval_epoch`, if it is not None, evaluation metrics will be calculated on test set every \"eval_epoch\" epochs. In this way, we can observe the effect of the model during the training process.\n",
    "\n",
    "`top_k`, the number of items to be recommended for each user when calculating ranking metrics.\n",
    "\n",
    "A complete list of parameters can be found in `yaml_file`. We use `prepare_hparams` to read the yaml file and prepare a full set of parameters for the model. Parameters passed as the function's parameters will overwrite yaml settings."
   ]
  },
  {
   "cell_type": "code",
   "execution_count": 10,
   "metadata": {},
   "outputs": [],
   "source": [
    "hparams = prepare_hparams(\n",
    "    yaml_file,\n",
    "    n_layers=3,\n",
    "    batch_size=BATCH_SIZE,\n",
    "    epochs=EPOCHS,\n",
    "    learning_rate=0.005,\n",
    "    eval_epoch=5,\n",
    "    top_k=TOP_K,\n",
    ")"
   ]
  },
  {
   "attachments": {},
   "cell_type": "markdown",
   "metadata": {},
   "source": [
    "### 2.4 Create and train model\n",
    "\n",
    "With data and parameters prepared, we can create the LightGCN model.\n",
    "\n",
    "To train the model, we simply need to call the `fit()` method."
   ]
  },
  {
   "cell_type": "code",
   "execution_count": 11,
   "metadata": {},
   "outputs": [
    {
     "name": "stdout",
     "output_type": "stream",
     "text": [
      "Already create adjacency matrix.\n",
      "Already normalize adjacency matrix.\n",
      "Using xavier initialization.\n"
     ]
    }
   ],
   "source": [
    "model = LightGCN(hparams, data, seed=SEED)"
   ]
  },
  {
   "cell_type": "code",
   "execution_count": 12,
   "metadata": {},
   "outputs": [
    {
     "name": "stdout",
     "output_type": "stream",
     "text": [
      "Epoch 1 (train)127.5s: train loss = 0.36379 = (mf)0.36304 + (embed)0.00075\n",
      "Epoch 2 (train)125.8s: train loss = 0.26215 = (mf)0.26061 + (embed)0.00154\n",
      "Epoch 3 (train)127.4s: train loss = 0.25223 = (mf)0.25035 + (embed)0.00188\n",
      "Epoch 4 (train)126.8s: train loss = 0.24304 = (mf)0.24089 + (embed)0.00215\n",
      "Epoch 5 (train)128.1s + (eval)1.4s: train loss = 0.23311 = (mf)0.23063 + (embed)0.00248, recall = 0.08456, ndcg = 0.29865, precision = 0.28765, map = 0.06101\n",
      "Epoch 6 (train)127.9s: train loss = 0.22616 = (mf)0.22338 + (embed)0.00278\n",
      "Epoch 7 (train)127.0s: train loss = 0.22057 = (mf)0.21749 + (embed)0.00308\n",
      "Epoch 8 (train)126.1s: train loss = 0.21434 = (mf)0.21095 + (embed)0.00339\n",
      "Epoch 9 (train)126.1s: train loss = 0.20879 = (mf)0.20509 + (embed)0.00369\n",
      "Epoch 10 (train)127.0s + (eval)0.9s: train loss = 0.20452 = (mf)0.20052 + (embed)0.00400, recall = 0.09542, ndcg = 0.33024, precision = 0.31994, map = 0.06915\n",
      "Epoch 11 (train)126.6s: train loss = 0.19926 = (mf)0.19495 + (embed)0.00431\n",
      "Epoch 12 (train)127.3s: train loss = 0.19430 = (mf)0.18967 + (embed)0.00463\n",
      "Epoch 13 (train)127.3s: train loss = 0.18994 = (mf)0.18497 + (embed)0.00496\n",
      "Epoch 14 (train)127.2s: train loss = 0.18445 = (mf)0.17913 + (embed)0.00532\n",
      "Epoch 15 (train)126.7s + (eval)0.9s: train loss = 0.17965 = (mf)0.17397 + (embed)0.00568, recall = 0.10370, ndcg = 0.35942, precision = 0.34370, map = 0.07586\n",
      "Epoch 16 (train)126.2s: train loss = 0.17558 = (mf)0.16954 + (embed)0.00604\n",
      "Epoch 17 (train)126.5s: train loss = 0.17064 = (mf)0.16422 + (embed)0.00642\n",
      "Epoch 18 (train)126.1s: train loss = 0.16658 = (mf)0.15979 + (embed)0.00679\n",
      "Epoch 19 (train)125.3s: train loss = 0.16256 = (mf)0.15539 + (embed)0.00717\n",
      "Epoch 20 (train)122.9s + (eval)0.9s: train loss = 0.15881 = (mf)0.15126 + (embed)0.00755, recall = 0.11155, ndcg = 0.37942, precision = 0.36457, map = 0.08160\n",
      "Epoch 21 (train)123.4s: train loss = 0.15554 = (mf)0.14760 + (embed)0.00794\n",
      "Epoch 22 (train)127.9s: train loss = 0.15094 = (mf)0.14260 + (embed)0.00834\n",
      "Epoch 23 (train)122.6s: train loss = 0.14929 = (mf)0.14057 + (embed)0.00872\n",
      "Epoch 24 (train)123.1s: train loss = 0.14511 = (mf)0.13599 + (embed)0.00912\n",
      "Epoch 25 (train)123.3s + (eval)0.8s: train loss = 0.14194 = (mf)0.13244 + (embed)0.00950, recall = 0.11626, ndcg = 0.39528, precision = 0.38031, map = 0.08542\n",
      "Epoch 26 (train)122.1s: train loss = 0.13896 = (mf)0.12908 + (embed)0.00988\n",
      "Epoch 27 (train)122.7s: train loss = 0.13641 = (mf)0.12615 + (embed)0.01026\n",
      "Epoch 28 (train)123.5s: train loss = 0.13564 = (mf)0.12502 + (embed)0.01062\n",
      "Epoch 29 (train)124.1s: train loss = 0.13268 = (mf)0.12169 + (embed)0.01099\n",
      "Epoch 30 (train)124.3s + (eval)0.9s: train loss = 0.12919 = (mf)0.11784 + (embed)0.01135, recall = 0.11736, ndcg = 0.39897, precision = 0.38556, map = 0.08623\n",
      "Epoch 31 (train)122.7s: train loss = 0.12738 = (mf)0.11567 + (embed)0.01171\n",
      "Epoch 32 (train)122.7s: train loss = 0.12673 = (mf)0.11466 + (embed)0.01207\n",
      "Epoch 33 (train)122.6s: train loss = 0.12500 = (mf)0.11260 + (embed)0.01240\n",
      "Epoch 34 (train)130.6s: train loss = 0.12232 = (mf)0.10959 + (embed)0.01273\n",
      "Epoch 35 (train)125.3s + (eval)0.9s: train loss = 0.12141 = (mf)0.10836 + (embed)0.01305, recall = 0.11997, ndcg = 0.40610, precision = 0.39117, map = 0.08853\n",
      "Epoch 36 (train)126.1s: train loss = 0.11985 = (mf)0.10645 + (embed)0.01340\n",
      "Epoch 37 (train)125.7s: train loss = 0.11790 = (mf)0.10419 + (embed)0.01371\n",
      "Epoch 38 (train)127.0s: train loss = 0.11689 = (mf)0.10287 + (embed)0.01402\n",
      "Epoch 39 (train)126.0s: train loss = 0.11531 = (mf)0.10098 + (embed)0.01432\n",
      "Epoch 40 (train)124.8s + (eval)0.9s: train loss = 0.11414 = (mf)0.09951 + (embed)0.01463, recall = 0.11983, ndcg = 0.40744, precision = 0.39173, map = 0.08892\n",
      "Epoch 41 (train)125.7s: train loss = 0.11317 = (mf)0.09826 + (embed)0.01491\n",
      "Epoch 42 (train)125.9s: train loss = 0.11211 = (mf)0.09692 + (embed)0.01519\n",
      "Epoch 43 (train)125.5s: train loss = 0.11069 = (mf)0.09522 + (embed)0.01547\n",
      "Epoch 44 (train)125.2s: train loss = 0.11085 = (mf)0.09511 + (embed)0.01574\n",
      "Epoch 45 (train)125.6s + (eval)0.9s: train loss = 0.10874 = (mf)0.09274 + (embed)0.01599, recall = 0.12089, ndcg = 0.40850, precision = 0.39173, map = 0.08997\n",
      "Epoch 46 (train)124.9s: train loss = 0.10822 = (mf)0.09198 + (embed)0.01624\n",
      "Epoch 47 (train)125.2s: train loss = 0.10714 = (mf)0.09065 + (embed)0.01649\n",
      "Epoch 48 (train)124.4s: train loss = 0.10717 = (mf)0.09046 + (embed)0.01671\n",
      "Epoch 49 (train)123.0s: train loss = 0.10609 = (mf)0.08915 + (embed)0.01694\n",
      "Epoch 50 (train)122.5s + (eval)0.9s: train loss = 0.10557 = (mf)0.08839 + (embed)0.01718, recall = 0.11997, ndcg = 0.40518, precision = 0.38969, map = 0.08944\n",
      "Took 6279.793064699999 seconds for training.\n"
     ]
    }
   ],
   "source": [
    "with Timer() as train_time:\n",
    "    model.fit()\n",
    "\n",
    "print(\"Took {} seconds for training.\".format(train_time.interval))"
   ]
  },
  {
   "attachments": {},
   "cell_type": "markdown",
   "metadata": {},
   "source": [
    "### 2.5 Recommendation and Evaluation"
   ]
  },
  {
   "attachments": {},
   "cell_type": "markdown",
   "metadata": {},
   "source": [
    "Recommendation and evaluation have been performed on the specified test set during training. After training, we can also use the model to perform recommendation and evalution on other data. Here we still use `test` as test data, but `test` can be replaced by other data with similar data structure."
   ]
  },
  {
   "attachments": {},
   "cell_type": "markdown",
   "metadata": {},
   "source": [
    "#### 2.5.1 Recommendation\n",
    "\n",
    "We can call `recommend_k_items` to recommend k items for each user passed in this function. We set `remove_seen=True` to remove the items already seen by the user. The function returns a dataframe, containing each user and top k items recommended to them and the corresponding ranking scores."
   ]
  },
  {
   "cell_type": "code",
   "execution_count": 13,
   "metadata": {},
   "outputs": [
    {
     "data": {
      "text/html": [
       "<div>\n",
       "<style scoped>\n",
       "    .dataframe tbody tr th:only-of-type {\n",
       "        vertical-align: middle;\n",
       "    }\n",
       "\n",
       "    .dataframe tbody tr th {\n",
       "        vertical-align: top;\n",
       "    }\n",
       "\n",
       "    .dataframe thead th {\n",
       "        text-align: right;\n",
       "    }\n",
       "</style>\n",
       "<table border=\"1\" class=\"dataframe\">\n",
       "  <thead>\n",
       "    <tr style=\"text-align: right;\">\n",
       "      <th></th>\n",
       "      <th>userID</th>\n",
       "      <th>itemID</th>\n",
       "      <th>prediction</th>\n",
       "    </tr>\n",
       "  </thead>\n",
       "  <tbody>\n",
       "    <tr>\n",
       "      <th>0</th>\n",
       "      <td>0</td>\n",
       "      <td>3151</td>\n",
       "      <td>8.499737</td>\n",
       "    </tr>\n",
       "    <tr>\n",
       "      <th>1</th>\n",
       "      <td>0</td>\n",
       "      <td>1109</td>\n",
       "      <td>7.400152</td>\n",
       "    </tr>\n",
       "    <tr>\n",
       "      <th>2</th>\n",
       "      <td>0</td>\n",
       "      <td>3135</td>\n",
       "      <td>7.178505</td>\n",
       "    </tr>\n",
       "    <tr>\n",
       "      <th>3</th>\n",
       "      <td>0</td>\n",
       "      <td>372</td>\n",
       "      <td>7.177351</td>\n",
       "    </tr>\n",
       "    <tr>\n",
       "      <th>4</th>\n",
       "      <td>0</td>\n",
       "      <td>3152</td>\n",
       "      <td>7.065267</td>\n",
       "    </tr>\n",
       "  </tbody>\n",
       "</table>\n",
       "</div>"
      ],
      "text/plain": [
       "   userID  itemID  prediction\n",
       "0       0    3151    8.499737\n",
       "1       0    1109    7.400152\n",
       "2       0    3135    7.178505\n",
       "3       0     372    7.177351\n",
       "4       0    3152    7.065267"
      ]
     },
     "execution_count": 13,
     "metadata": {},
     "output_type": "execute_result"
    }
   ],
   "source": [
    "topk_scores = model.recommend_k_items(test, top_k=TOP_K, remove_seen=True)\n",
    "topk_scores.head()"
   ]
  },
  {
   "attachments": {},
   "cell_type": "markdown",
   "metadata": {},
   "source": [
    "#### 2.5.2 Evaluation\n",
    "\n",
    "With `topk_scores` predicted by the model, we can evaluate how LightGCN performs on this test set."
   ]
  },
  {
   "cell_type": "code",
   "execution_count": null,
   "metadata": {},
   "outputs": [],
   "source": [
    "import json\n",
    "\n",
    "eval_map = map_at_k(test, topk_scores, k=TOP_K)\n",
    "eval_ndcg = ndcg_at_k(test, topk_scores, k=TOP_K)\n",
    "eval_precision = precision_at_k(test, topk_scores, k=TOP_K)\n",
    "eval_recall = recall_at_k(test, topk_scores, k=TOP_K)\n",
    "eval_serendipity = serendipity(train, topk_scores)\n",
    "eval_coverage = catalog_coverage(train, topk_scores)\n",
    "\n",
    "metric_results = {\n",
    "    'MAP': eval_map,\n",
    "    'NDCG': eval_ndcg,\n",
    "    'Precision': eval_precision,\n",
    "    'Recall': eval_recall,\n",
    "    'User Serendipity': eval_serendipity,\n",
    "    'Coverage': eval_coverage\n",
    "}\n",
    "\n",
    "print(json.dumps(metric_results, indent=4))\n",
    "with open(\"./output/exp-3-epinions/metric_results.txt\", \"w\") as fp:\n",
    "    json.dump(metric_results, fp, indent=4)"
   ]
  },
  {
   "cell_type": "code",
   "execution_count": 14,
   "metadata": {},
   "outputs": [
    {
     "ename": "MemoryError",
     "evalue": "Unable to allocate 1.43 GiB for an array with shape (191935560,) and data type int64",
     "output_type": "error",
     "traceback": [
      "\u001b[1;31m---------------------------------------------------------------------------\u001b[0m",
      "\u001b[1;31mMemoryError\u001b[0m                               Traceback (most recent call last)",
      "Cell \u001b[1;32mIn[14], line 5\u001b[0m\n\u001b[0;32m      1\u001b[0m \u001b[39m# load clusters if not previously loaded\u001b[39;00m\n\u001b[0;32m      2\u001b[0m \u001b[39m# clusters = pd.read_csv('./output/exp-2/group_clusters.csv', usecols=['user_id', 'group'])\u001b[39;00m\n\u001b[0;32m      3\u001b[0m \n\u001b[0;32m      4\u001b[0m \u001b[39m# get per-user serendipity score\u001b[39;00m\n\u001b[1;32m----> 5\u001b[0m eval_serendipity \u001b[39m=\u001b[39m user_serendipity(train, topk_scores)\n\u001b[0;32m      7\u001b[0m \u001b[39m# calculate per-cluster serendipity score\u001b[39;00m\n\u001b[0;32m      8\u001b[0m eval_serendipity_clulsters \u001b[39m=\u001b[39m clusters\u001b[39m.\u001b[39mmerge(eval_serendipity, on\u001b[39m=\u001b[39m\u001b[39m'\u001b[39m\u001b[39muserID\u001b[39m\u001b[39m'\u001b[39m)\u001b[39m.\u001b[39mdrop(columns\u001b[39m=\u001b[39m[\u001b[39m'\u001b[39m\u001b[39muserID\u001b[39m\u001b[39m'\u001b[39m])\n",
      "File \u001b[1;32m~\\AppData\\Roaming\\Python\\Python39\\site-packages\\recommenders\\datasets\\pandas_df_utils.py:483\u001b[0m, in \u001b[0;36mlru_cache_df.<locals>.decorating_function.<locals>.wrapper\u001b[1;34m(*args, **kwargs)\u001b[0m\n\u001b[0;32m    481\u001b[0m args \u001b[39m=\u001b[39m \u001b[39mtuple\u001b[39m([to_pandas_hash(a) \u001b[39mfor\u001b[39;00m a \u001b[39min\u001b[39;00m args])\n\u001b[0;32m    482\u001b[0m kwargs \u001b[39m=\u001b[39m {k: to_pandas_hash(v) \u001b[39mfor\u001b[39;00m k, v \u001b[39min\u001b[39;00m kwargs\u001b[39m.\u001b[39mitems()}\n\u001b[1;32m--> 483\u001b[0m \u001b[39mreturn\u001b[39;00m cached_wrapper(\u001b[39m*\u001b[39margs, \u001b[39m*\u001b[39m\u001b[39m*\u001b[39mkwargs)\n",
      "File \u001b[1;32m~\\AppData\\Roaming\\Python\\Python39\\site-packages\\recommenders\\datasets\\pandas_df_utils.py:490\u001b[0m, in \u001b[0;36mlru_cache_df.<locals>.decorating_function.<locals>.cached_wrapper\u001b[1;34m(*args, **kwargs)\u001b[0m\n\u001b[0;32m    488\u001b[0m args \u001b[39m=\u001b[39m \u001b[39mtuple\u001b[39m([from_pandas_hash(a) \u001b[39mfor\u001b[39;00m a \u001b[39min\u001b[39;00m args])\n\u001b[0;32m    489\u001b[0m kwargs \u001b[39m=\u001b[39m {k: from_pandas_hash(v) \u001b[39mfor\u001b[39;00m k, v \u001b[39min\u001b[39;00m kwargs\u001b[39m.\u001b[39mitems()}\n\u001b[1;32m--> 490\u001b[0m \u001b[39mreturn\u001b[39;00m user_function(\u001b[39m*\u001b[39margs, \u001b[39m*\u001b[39m\u001b[39m*\u001b[39mkwargs)\n",
      "File \u001b[1;32m~\\AppData\\Roaming\\Python\\Python39\\site-packages\\recommenders\\evaluation\\python_evaluation.py:790\u001b[0m, in \u001b[0;36m_check_column_dtypes_diversity_serendipity.<locals>.check_column_dtypes_diversity_serendipity_wrapper\u001b[1;34m(train_df, reco_df, item_feature_df, item_sim_measure, col_item_features, col_user, col_item, col_sim, col_relevance, *args, **kwargs)\u001b[0m\n\u001b[0;32m    785\u001b[0m \u001b[39mif\u001b[39;00m count_intersection \u001b[39m!=\u001b[39m \u001b[39m0\u001b[39m:\n\u001b[0;32m    786\u001b[0m     \u001b[39mraise\u001b[39;00m \u001b[39mException\u001b[39;00m(\n\u001b[0;32m    787\u001b[0m         \u001b[39m\"\u001b[39m\u001b[39mreco_df should not contain any user_item pairs that are already shown in train_df\u001b[39m\u001b[39m\"\u001b[39m\n\u001b[0;32m    788\u001b[0m     )\n\u001b[1;32m--> 790\u001b[0m \u001b[39mreturn\u001b[39;00m func(\n\u001b[0;32m    791\u001b[0m     train_df\u001b[39m=\u001b[39mtrain_df,\n\u001b[0;32m    792\u001b[0m     reco_df\u001b[39m=\u001b[39mreco_df,\n\u001b[0;32m    793\u001b[0m     item_feature_df\u001b[39m=\u001b[39mitem_feature_df,\n\u001b[0;32m    794\u001b[0m     item_sim_measure\u001b[39m=\u001b[39mitem_sim_measure,\n\u001b[0;32m    795\u001b[0m     col_user\u001b[39m=\u001b[39mcol_user,\n\u001b[0;32m    796\u001b[0m     col_item\u001b[39m=\u001b[39mcol_item,\n\u001b[0;32m    797\u001b[0m     col_sim\u001b[39m=\u001b[39mcol_sim,\n\u001b[0;32m    798\u001b[0m     col_relevance\u001b[39m=\u001b[39mcol_relevance,\n\u001b[0;32m    799\u001b[0m     \u001b[39m*\u001b[39margs,\n\u001b[0;32m    800\u001b[0m     \u001b[39m*\u001b[39m\u001b[39m*\u001b[39mkwargs\n\u001b[0;32m    801\u001b[0m )\n",
      "File \u001b[1;32m~\\AppData\\Roaming\\Python\\Python39\\site-packages\\recommenders\\evaluation\\python_evaluation.py:1384\u001b[0m, in \u001b[0;36muser_serendipity\u001b[1;34m(train_df, reco_df, item_feature_df, item_sim_measure, col_item_features, col_user, col_item, col_sim, col_relevance)\u001b[0m\n\u001b[0;32m   1351\u001b[0m \u001b[39m@lru_cache_df\u001b[39m(maxsize\u001b[39m=\u001b[39m\u001b[39m1\u001b[39m)\n\u001b[0;32m   1352\u001b[0m \u001b[39m@_check_column_dtypes_diversity_serendipity\u001b[39m\n\u001b[0;32m   1353\u001b[0m \u001b[39mdef\u001b[39;00m \u001b[39muser_serendipity\u001b[39m(\n\u001b[1;32m   (...)\u001b[0m\n\u001b[0;32m   1362\u001b[0m     col_relevance\u001b[39m=\u001b[39m\u001b[39mNone\u001b[39;00m,\n\u001b[0;32m   1363\u001b[0m ):\n\u001b[0;32m   1364\u001b[0m \u001b[39m    \u001b[39m\u001b[39m\"\"\"Calculate average serendipity for each user's recommendations.\u001b[39;00m\n\u001b[0;32m   1365\u001b[0m \n\u001b[0;32m   1366\u001b[0m \u001b[39m    Args:\u001b[39;00m\n\u001b[1;32m   (...)\u001b[0m\n\u001b[0;32m   1382\u001b[0m \u001b[39m        pandas.DataFrame: A dataframe with following columns: col_user, user_serendipity.\u001b[39;00m\n\u001b[0;32m   1383\u001b[0m \u001b[39m    \"\"\"\u001b[39;00m\n\u001b[1;32m-> 1384\u001b[0m     df_user_item_serendipity \u001b[39m=\u001b[39m user_item_serendipity(\n\u001b[0;32m   1385\u001b[0m         train_df,\n\u001b[0;32m   1386\u001b[0m         reco_df,\n\u001b[0;32m   1387\u001b[0m         item_feature_df,\n\u001b[0;32m   1388\u001b[0m         item_sim_measure,\n\u001b[0;32m   1389\u001b[0m         col_item_features,\n\u001b[0;32m   1390\u001b[0m         col_user,\n\u001b[0;32m   1391\u001b[0m         col_item,\n\u001b[0;32m   1392\u001b[0m         col_sim,\n\u001b[0;32m   1393\u001b[0m         col_relevance,\n\u001b[0;32m   1394\u001b[0m     )\n\u001b[0;32m   1395\u001b[0m     df_user_serendipity \u001b[39m=\u001b[39m (\n\u001b[0;32m   1396\u001b[0m         df_user_item_serendipity\u001b[39m.\u001b[39mgroupby(col_user)\n\u001b[0;32m   1397\u001b[0m         \u001b[39m.\u001b[39magg({\u001b[39m\"\u001b[39m\u001b[39muser_item_serendipity\u001b[39m\u001b[39m\"\u001b[39m: \u001b[39m\"\u001b[39m\u001b[39mmean\u001b[39m\u001b[39m\"\u001b[39m})\n\u001b[0;32m   1398\u001b[0m         \u001b[39m.\u001b[39mreset_index()\n\u001b[0;32m   1399\u001b[0m     )\n\u001b[0;32m   1400\u001b[0m     df_user_serendipity\u001b[39m.\u001b[39mcolumns \u001b[39m=\u001b[39m [col_user, \u001b[39m\"\u001b[39m\u001b[39muser_serendipity\u001b[39m\u001b[39m\"\u001b[39m]\n",
      "File \u001b[1;32m~\\AppData\\Roaming\\Python\\Python39\\site-packages\\recommenders\\evaluation\\python_evaluation.py:790\u001b[0m, in \u001b[0;36m_check_column_dtypes_diversity_serendipity.<locals>.check_column_dtypes_diversity_serendipity_wrapper\u001b[1;34m(train_df, reco_df, item_feature_df, item_sim_measure, col_item_features, col_user, col_item, col_sim, col_relevance, *args, **kwargs)\u001b[0m\n\u001b[0;32m    785\u001b[0m \u001b[39mif\u001b[39;00m count_intersection \u001b[39m!=\u001b[39m \u001b[39m0\u001b[39m:\n\u001b[0;32m    786\u001b[0m     \u001b[39mraise\u001b[39;00m \u001b[39mException\u001b[39;00m(\n\u001b[0;32m    787\u001b[0m         \u001b[39m\"\u001b[39m\u001b[39mreco_df should not contain any user_item pairs that are already shown in train_df\u001b[39m\u001b[39m\"\u001b[39m\n\u001b[0;32m    788\u001b[0m     )\n\u001b[1;32m--> 790\u001b[0m \u001b[39mreturn\u001b[39;00m func(\n\u001b[0;32m    791\u001b[0m     train_df\u001b[39m=\u001b[39mtrain_df,\n\u001b[0;32m    792\u001b[0m     reco_df\u001b[39m=\u001b[39mreco_df,\n\u001b[0;32m    793\u001b[0m     item_feature_df\u001b[39m=\u001b[39mitem_feature_df,\n\u001b[0;32m    794\u001b[0m     item_sim_measure\u001b[39m=\u001b[39mitem_sim_measure,\n\u001b[0;32m    795\u001b[0m     col_user\u001b[39m=\u001b[39mcol_user,\n\u001b[0;32m    796\u001b[0m     col_item\u001b[39m=\u001b[39mcol_item,\n\u001b[0;32m    797\u001b[0m     col_sim\u001b[39m=\u001b[39mcol_sim,\n\u001b[0;32m    798\u001b[0m     col_relevance\u001b[39m=\u001b[39mcol_relevance,\n\u001b[0;32m    799\u001b[0m     \u001b[39m*\u001b[39margs,\n\u001b[0;32m    800\u001b[0m     \u001b[39m*\u001b[39m\u001b[39m*\u001b[39mkwargs\n\u001b[0;32m    801\u001b[0m )\n",
      "File \u001b[1;32m~\\AppData\\Roaming\\Python\\Python39\\site-packages\\recommenders\\datasets\\pandas_df_utils.py:483\u001b[0m, in \u001b[0;36mlru_cache_df.<locals>.decorating_function.<locals>.wrapper\u001b[1;34m(*args, **kwargs)\u001b[0m\n\u001b[0;32m    481\u001b[0m args \u001b[39m=\u001b[39m \u001b[39mtuple\u001b[39m([to_pandas_hash(a) \u001b[39mfor\u001b[39;00m a \u001b[39min\u001b[39;00m args])\n\u001b[0;32m    482\u001b[0m kwargs \u001b[39m=\u001b[39m {k: to_pandas_hash(v) \u001b[39mfor\u001b[39;00m k, v \u001b[39min\u001b[39;00m kwargs\u001b[39m.\u001b[39mitems()}\n\u001b[1;32m--> 483\u001b[0m \u001b[39mreturn\u001b[39;00m cached_wrapper(\u001b[39m*\u001b[39margs, \u001b[39m*\u001b[39m\u001b[39m*\u001b[39mkwargs)\n",
      "File \u001b[1;32m~\\AppData\\Roaming\\Python\\Python39\\site-packages\\recommenders\\datasets\\pandas_df_utils.py:490\u001b[0m, in \u001b[0;36mlru_cache_df.<locals>.decorating_function.<locals>.cached_wrapper\u001b[1;34m(*args, **kwargs)\u001b[0m\n\u001b[0;32m    488\u001b[0m args \u001b[39m=\u001b[39m \u001b[39mtuple\u001b[39m([from_pandas_hash(a) \u001b[39mfor\u001b[39;00m a \u001b[39min\u001b[39;00m args])\n\u001b[0;32m    489\u001b[0m kwargs \u001b[39m=\u001b[39m {k: from_pandas_hash(v) \u001b[39mfor\u001b[39;00m k, v \u001b[39min\u001b[39;00m kwargs\u001b[39m.\u001b[39mitems()}\n\u001b[1;32m--> 490\u001b[0m \u001b[39mreturn\u001b[39;00m user_function(\u001b[39m*\u001b[39margs, \u001b[39m*\u001b[39m\u001b[39m*\u001b[39mkwargs)\n",
      "File \u001b[1;32m~\\AppData\\Roaming\\Python\\Python39\\site-packages\\recommenders\\evaluation\\python_evaluation.py:1297\u001b[0m, in \u001b[0;36muser_item_serendipity\u001b[1;34m(train_df, reco_df, item_feature_df, item_sim_measure, col_item_features, col_user, col_item, col_sim, col_relevance)\u001b[0m\n\u001b[0;32m   1266\u001b[0m \u001b[39m\u001b[39m\u001b[39m\"\"\"Calculate serendipity of each item in the recommendations for each user.\u001b[39;00m\n\u001b[0;32m   1267\u001b[0m \u001b[39mThe metric definition is based on the following references:\u001b[39;00m\n\u001b[0;32m   1268\u001b[0m \n\u001b[1;32m   (...)\u001b[0m\n\u001b[0;32m   1293\u001b[0m \u001b[39m    pandas.DataFrame: A dataframe with columns: col_user, col_item, user_item_serendipity.\u001b[39;00m\n\u001b[0;32m   1294\u001b[0m \u001b[39m\"\"\"\u001b[39;00m\n\u001b[0;32m   1295\u001b[0m \u001b[39m# for every col_user, col_item in reco_df, join all interacted items from train_df.\u001b[39;00m\n\u001b[0;32m   1296\u001b[0m \u001b[39m# These interacted items are repeated for each item in reco_df for a specific user.\u001b[39;00m\n\u001b[1;32m-> 1297\u001b[0m df_cosine_similarity \u001b[39m=\u001b[39m _get_cosine_similarity(\n\u001b[0;32m   1298\u001b[0m     train_df,\n\u001b[0;32m   1299\u001b[0m     item_feature_df,\n\u001b[0;32m   1300\u001b[0m     item_sim_measure,\n\u001b[0;32m   1301\u001b[0m     col_item_features,\n\u001b[0;32m   1302\u001b[0m     col_user,\n\u001b[0;32m   1303\u001b[0m     col_item,\n\u001b[0;32m   1304\u001b[0m     col_sim,\n\u001b[0;32m   1305\u001b[0m )\n\u001b[0;32m   1306\u001b[0m reco_user_item \u001b[39m=\u001b[39m reco_df[[col_user, col_item]]\n\u001b[0;32m   1307\u001b[0m reco_user_item[\u001b[39m\"\u001b[39m\u001b[39mreco_item_tmp\u001b[39m\u001b[39m\"\u001b[39m] \u001b[39m=\u001b[39m reco_user_item[col_item]\n",
      "File \u001b[1;32m~\\AppData\\Roaming\\Python\\Python39\\site-packages\\recommenders\\datasets\\pandas_df_utils.py:483\u001b[0m, in \u001b[0;36mlru_cache_df.<locals>.decorating_function.<locals>.wrapper\u001b[1;34m(*args, **kwargs)\u001b[0m\n\u001b[0;32m    481\u001b[0m args \u001b[39m=\u001b[39m \u001b[39mtuple\u001b[39m([to_pandas_hash(a) \u001b[39mfor\u001b[39;00m a \u001b[39min\u001b[39;00m args])\n\u001b[0;32m    482\u001b[0m kwargs \u001b[39m=\u001b[39m {k: to_pandas_hash(v) \u001b[39mfor\u001b[39;00m k, v \u001b[39min\u001b[39;00m kwargs\u001b[39m.\u001b[39mitems()}\n\u001b[1;32m--> 483\u001b[0m \u001b[39mreturn\u001b[39;00m cached_wrapper(\u001b[39m*\u001b[39margs, \u001b[39m*\u001b[39m\u001b[39m*\u001b[39mkwargs)\n",
      "File \u001b[1;32m~\\AppData\\Roaming\\Python\\Python39\\site-packages\\recommenders\\datasets\\pandas_df_utils.py:490\u001b[0m, in \u001b[0;36mlru_cache_df.<locals>.decorating_function.<locals>.cached_wrapper\u001b[1;34m(*args, **kwargs)\u001b[0m\n\u001b[0;32m    488\u001b[0m args \u001b[39m=\u001b[39m \u001b[39mtuple\u001b[39m([from_pandas_hash(a) \u001b[39mfor\u001b[39;00m a \u001b[39min\u001b[39;00m args])\n\u001b[0;32m    489\u001b[0m kwargs \u001b[39m=\u001b[39m {k: from_pandas_hash(v) \u001b[39mfor\u001b[39;00m k, v \u001b[39min\u001b[39;00m kwargs\u001b[39m.\u001b[39mitems()}\n\u001b[1;32m--> 490\u001b[0m \u001b[39mreturn\u001b[39;00m user_function(\u001b[39m*\u001b[39margs, \u001b[39m*\u001b[39m\u001b[39m*\u001b[39mkwargs)\n",
      "File \u001b[1;32m~\\AppData\\Roaming\\Python\\Python39\\site-packages\\recommenders\\evaluation\\python_evaluation.py:905\u001b[0m, in \u001b[0;36m_get_cosine_similarity\u001b[1;34m(train_df, item_feature_df, item_sim_measure, col_item_features, col_user, col_item, col_sim)\u001b[0m\n\u001b[0;32m    892\u001b[0m \u001b[39m@lru_cache_df\u001b[39m(maxsize\u001b[39m=\u001b[39m\u001b[39m1\u001b[39m)\n\u001b[0;32m    893\u001b[0m \u001b[39mdef\u001b[39;00m \u001b[39m_get_cosine_similarity\u001b[39m(\n\u001b[0;32m    894\u001b[0m     train_df,\n\u001b[1;32m   (...)\u001b[0m\n\u001b[0;32m    900\u001b[0m     col_sim\u001b[39m=\u001b[39mDEFAULT_SIMILARITY_COL,\n\u001b[0;32m    901\u001b[0m ):\n\u001b[0;32m    903\u001b[0m     \u001b[39mif\u001b[39;00m item_sim_measure \u001b[39m==\u001b[39m \u001b[39m\"\u001b[39m\u001b[39mitem_cooccurrence_count\u001b[39m\u001b[39m\"\u001b[39m:\n\u001b[0;32m    904\u001b[0m         \u001b[39m# calculate item-item similarity based on item co-occurrence count\u001b[39;00m\n\u001b[1;32m--> 905\u001b[0m         df_cosine_similarity \u001b[39m=\u001b[39m _get_cooccurrence_similarity(\n\u001b[0;32m    906\u001b[0m             train_df, col_user, col_item, col_sim\n\u001b[0;32m    907\u001b[0m         )\n\u001b[0;32m    908\u001b[0m     \u001b[39melif\u001b[39;00m item_sim_measure \u001b[39m==\u001b[39m \u001b[39m\"\u001b[39m\u001b[39mitem_feature_vector\u001b[39m\u001b[39m\"\u001b[39m:\n\u001b[0;32m    909\u001b[0m         \u001b[39m# calculdf_cosine_similarity = ate item-item similarity based on item feature vectors\u001b[39;00m\n\u001b[0;32m    910\u001b[0m         df_cosine_similarity \u001b[39m=\u001b[39m _get_item_feature_similarity(\n\u001b[0;32m    911\u001b[0m             item_feature_df, col_item_features, col_user, col_item\n\u001b[0;32m    912\u001b[0m         )\n",
      "File \u001b[1;32m~\\AppData\\Roaming\\Python\\Python39\\site-packages\\recommenders\\datasets\\pandas_df_utils.py:483\u001b[0m, in \u001b[0;36mlru_cache_df.<locals>.decorating_function.<locals>.wrapper\u001b[1;34m(*args, **kwargs)\u001b[0m\n\u001b[0;32m    481\u001b[0m args \u001b[39m=\u001b[39m \u001b[39mtuple\u001b[39m([to_pandas_hash(a) \u001b[39mfor\u001b[39;00m a \u001b[39min\u001b[39;00m args])\n\u001b[0;32m    482\u001b[0m kwargs \u001b[39m=\u001b[39m {k: to_pandas_hash(v) \u001b[39mfor\u001b[39;00m k, v \u001b[39min\u001b[39;00m kwargs\u001b[39m.\u001b[39mitems()}\n\u001b[1;32m--> 483\u001b[0m \u001b[39mreturn\u001b[39;00m cached_wrapper(\u001b[39m*\u001b[39margs, \u001b[39m*\u001b[39m\u001b[39m*\u001b[39mkwargs)\n",
      "File \u001b[1;32m~\\AppData\\Roaming\\Python\\Python39\\site-packages\\recommenders\\datasets\\pandas_df_utils.py:490\u001b[0m, in \u001b[0;36mlru_cache_df.<locals>.decorating_function.<locals>.cached_wrapper\u001b[1;34m(*args, **kwargs)\u001b[0m\n\u001b[0;32m    488\u001b[0m args \u001b[39m=\u001b[39m \u001b[39mtuple\u001b[39m([from_pandas_hash(a) \u001b[39mfor\u001b[39;00m a \u001b[39min\u001b[39;00m args])\n\u001b[0;32m    489\u001b[0m kwargs \u001b[39m=\u001b[39m {k: from_pandas_hash(v) \u001b[39mfor\u001b[39;00m k, v \u001b[39min\u001b[39;00m kwargs\u001b[39m.\u001b[39mitems()}\n\u001b[1;32m--> 490\u001b[0m \u001b[39mreturn\u001b[39;00m user_function(\u001b[39m*\u001b[39margs, \u001b[39m*\u001b[39m\u001b[39m*\u001b[39mkwargs)\n",
      "File \u001b[1;32m~\\AppData\\Roaming\\Python\\Python39\\site-packages\\recommenders\\evaluation\\python_evaluation.py:936\u001b[0m, in \u001b[0;36m_get_cooccurrence_similarity\u001b[1;34m(train_df, col_user, col_item, col_sim)\u001b[0m\n\u001b[0;32m    920\u001b[0m \u001b[39m@lru_cache_df\u001b[39m(maxsize\u001b[39m=\u001b[39m\u001b[39m1\u001b[39m)\n\u001b[0;32m    921\u001b[0m \u001b[39mdef\u001b[39;00m \u001b[39m_get_cooccurrence_similarity\u001b[39m(\n\u001b[0;32m    922\u001b[0m     train_df,\n\u001b[1;32m   (...)\u001b[0m\n\u001b[0;32m    925\u001b[0m     col_sim\u001b[39m=\u001b[39mDEFAULT_SIMILARITY_COL,\n\u001b[0;32m    926\u001b[0m ):\n\u001b[0;32m    927\u001b[0m \u001b[39m    \u001b[39m\u001b[39m\"\"\"Cosine similarity metric from\u001b[39;00m\n\u001b[0;32m    928\u001b[0m \n\u001b[0;32m    929\u001b[0m \u001b[39m    :Citation:\u001b[39;00m\n\u001b[1;32m   (...)\u001b[0m\n\u001b[0;32m    934\u001b[0m \u001b[39m    The item indexes in the result are such that i1 <= i2.\u001b[39;00m\n\u001b[0;32m    935\u001b[0m \u001b[39m    \"\"\"\u001b[39;00m\n\u001b[1;32m--> 936\u001b[0m     pairs \u001b[39m=\u001b[39m _get_pairwise_items(train_df, col_user, col_item)\n\u001b[0;32m    937\u001b[0m     pairs_count \u001b[39m=\u001b[39m pd\u001b[39m.\u001b[39mDataFrame(\n\u001b[0;32m    938\u001b[0m         {\u001b[39m\"\u001b[39m\u001b[39mcount\u001b[39m\u001b[39m\"\u001b[39m: pairs\u001b[39m.\u001b[39mgroupby([\u001b[39m\"\u001b[39m\u001b[39mi1\u001b[39m\u001b[39m\"\u001b[39m, \u001b[39m\"\u001b[39m\u001b[39mi2\u001b[39m\u001b[39m\"\u001b[39m])\u001b[39m.\u001b[39msize()}\n\u001b[0;32m    939\u001b[0m     )\u001b[39m.\u001b[39mreset_index()\n\u001b[0;32m    940\u001b[0m     item_count \u001b[39m=\u001b[39m pd\u001b[39m.\u001b[39mDataFrame(\n\u001b[0;32m    941\u001b[0m         {\u001b[39m\"\u001b[39m\u001b[39mcount\u001b[39m\u001b[39m\"\u001b[39m: train_df\u001b[39m.\u001b[39mgroupby([col_item])\u001b[39m.\u001b[39msize()}\n\u001b[0;32m    942\u001b[0m     )\u001b[39m.\u001b[39mreset_index()\n",
      "File \u001b[1;32m~\\AppData\\Roaming\\Python\\Python39\\site-packages\\recommenders\\datasets\\pandas_df_utils.py:483\u001b[0m, in \u001b[0;36mlru_cache_df.<locals>.decorating_function.<locals>.wrapper\u001b[1;34m(*args, **kwargs)\u001b[0m\n\u001b[0;32m    481\u001b[0m args \u001b[39m=\u001b[39m \u001b[39mtuple\u001b[39m([to_pandas_hash(a) \u001b[39mfor\u001b[39;00m a \u001b[39min\u001b[39;00m args])\n\u001b[0;32m    482\u001b[0m kwargs \u001b[39m=\u001b[39m {k: to_pandas_hash(v) \u001b[39mfor\u001b[39;00m k, v \u001b[39min\u001b[39;00m kwargs\u001b[39m.\u001b[39mitems()}\n\u001b[1;32m--> 483\u001b[0m \u001b[39mreturn\u001b[39;00m cached_wrapper(\u001b[39m*\u001b[39margs, \u001b[39m*\u001b[39m\u001b[39m*\u001b[39mkwargs)\n",
      "File \u001b[1;32m~\\AppData\\Roaming\\Python\\Python39\\site-packages\\recommenders\\datasets\\pandas_df_utils.py:490\u001b[0m, in \u001b[0;36mlru_cache_df.<locals>.decorating_function.<locals>.cached_wrapper\u001b[1;34m(*args, **kwargs)\u001b[0m\n\u001b[0;32m    488\u001b[0m args \u001b[39m=\u001b[39m \u001b[39mtuple\u001b[39m([from_pandas_hash(a) \u001b[39mfor\u001b[39;00m a \u001b[39min\u001b[39;00m args])\n\u001b[0;32m    489\u001b[0m kwargs \u001b[39m=\u001b[39m {k: from_pandas_hash(v) \u001b[39mfor\u001b[39;00m k, v \u001b[39min\u001b[39;00m kwargs\u001b[39m.\u001b[39mitems()}\n\u001b[1;32m--> 490\u001b[0m \u001b[39mreturn\u001b[39;00m user_function(\u001b[39m*\u001b[39margs, \u001b[39m*\u001b[39m\u001b[39m*\u001b[39mkwargs)\n",
      "File \u001b[1;32m~\\AppData\\Roaming\\Python\\Python39\\site-packages\\recommenders\\evaluation\\python_evaluation.py:884\u001b[0m, in \u001b[0;36m_get_pairwise_items\u001b[1;34m(df, col_user, col_item)\u001b[0m\n\u001b[0;32m    881\u001b[0m df_user_i2 \u001b[39m=\u001b[39m df[[col_user, col_item]]\n\u001b[0;32m    882\u001b[0m df_user_i2\u001b[39m.\u001b[39mcolumns \u001b[39m=\u001b[39m [col_user, \u001b[39m\"\u001b[39m\u001b[39mi2\u001b[39m\u001b[39m\"\u001b[39m]\n\u001b[1;32m--> 884\u001b[0m df_user_i1_i2 \u001b[39m=\u001b[39m pd\u001b[39m.\u001b[39;49mmerge(df_user_i1, df_user_i2, how\u001b[39m=\u001b[39;49m\u001b[39m\"\u001b[39;49m\u001b[39minner\u001b[39;49m\u001b[39m\"\u001b[39;49m, on\u001b[39m=\u001b[39;49m[col_user])\n\u001b[0;32m    886\u001b[0m df_pairwise_items \u001b[39m=\u001b[39m df_user_i1_i2[(df_user_i1_i2[\u001b[39m\"\u001b[39m\u001b[39mi1\u001b[39m\u001b[39m\"\u001b[39m] \u001b[39m<\u001b[39m\u001b[39m=\u001b[39m df_user_i1_i2[\u001b[39m\"\u001b[39m\u001b[39mi2\u001b[39m\u001b[39m\"\u001b[39m])][\n\u001b[0;32m    887\u001b[0m     [col_user, \u001b[39m\"\u001b[39m\u001b[39mi1\u001b[39m\u001b[39m\"\u001b[39m, \u001b[39m\"\u001b[39m\u001b[39mi2\u001b[39m\u001b[39m\"\u001b[39m]\n\u001b[0;32m    888\u001b[0m ]\u001b[39m.\u001b[39mreset_index(drop\u001b[39m=\u001b[39m\u001b[39mTrue\u001b[39;00m)\n\u001b[0;32m    889\u001b[0m \u001b[39mreturn\u001b[39;00m df_pairwise_items\n",
      "File \u001b[1;32md:\\miniconda3\\envs\\serendipity\\lib\\site-packages\\pandas\\core\\reshape\\merge.py:124\u001b[0m, in \u001b[0;36mmerge\u001b[1;34m(left, right, how, on, left_on, right_on, left_index, right_index, sort, suffixes, copy, indicator, validate)\u001b[0m\n\u001b[0;32m     93\u001b[0m \u001b[39m@Substitution\u001b[39m(\u001b[39m\"\u001b[39m\u001b[39m\\n\u001b[39;00m\u001b[39mleft : DataFrame or named Series\u001b[39m\u001b[39m\"\u001b[39m)\n\u001b[0;32m     94\u001b[0m \u001b[39m@Appender\u001b[39m(_merge_doc, indents\u001b[39m=\u001b[39m\u001b[39m0\u001b[39m)\n\u001b[0;32m     95\u001b[0m \u001b[39mdef\u001b[39;00m \u001b[39mmerge\u001b[39m(\n\u001b[1;32m   (...)\u001b[0m\n\u001b[0;32m    108\u001b[0m     validate: \u001b[39mstr\u001b[39m \u001b[39m|\u001b[39m \u001b[39mNone\u001b[39;00m \u001b[39m=\u001b[39m \u001b[39mNone\u001b[39;00m,\n\u001b[0;32m    109\u001b[0m ) \u001b[39m-\u001b[39m\u001b[39m>\u001b[39m DataFrame:\n\u001b[0;32m    110\u001b[0m     op \u001b[39m=\u001b[39m _MergeOperation(\n\u001b[0;32m    111\u001b[0m         left,\n\u001b[0;32m    112\u001b[0m         right,\n\u001b[1;32m   (...)\u001b[0m\n\u001b[0;32m    122\u001b[0m         validate\u001b[39m=\u001b[39mvalidate,\n\u001b[0;32m    123\u001b[0m     )\n\u001b[1;32m--> 124\u001b[0m     \u001b[39mreturn\u001b[39;00m op\u001b[39m.\u001b[39;49mget_result(copy\u001b[39m=\u001b[39;49mcopy)\n",
      "File \u001b[1;32md:\\miniconda3\\envs\\serendipity\\lib\\site-packages\\pandas\\core\\reshape\\merge.py:773\u001b[0m, in \u001b[0;36m_MergeOperation.get_result\u001b[1;34m(self, copy)\u001b[0m\n\u001b[0;32m    770\u001b[0m \u001b[39mif\u001b[39;00m \u001b[39mself\u001b[39m\u001b[39m.\u001b[39mindicator:\n\u001b[0;32m    771\u001b[0m     \u001b[39mself\u001b[39m\u001b[39m.\u001b[39mleft, \u001b[39mself\u001b[39m\u001b[39m.\u001b[39mright \u001b[39m=\u001b[39m \u001b[39mself\u001b[39m\u001b[39m.\u001b[39m_indicator_pre_merge(\u001b[39mself\u001b[39m\u001b[39m.\u001b[39mleft, \u001b[39mself\u001b[39m\u001b[39m.\u001b[39mright)\n\u001b[1;32m--> 773\u001b[0m join_index, left_indexer, right_indexer \u001b[39m=\u001b[39m \u001b[39mself\u001b[39;49m\u001b[39m.\u001b[39;49m_get_join_info()\n\u001b[0;32m    775\u001b[0m result \u001b[39m=\u001b[39m \u001b[39mself\u001b[39m\u001b[39m.\u001b[39m_reindex_and_concat(\n\u001b[0;32m    776\u001b[0m     join_index, left_indexer, right_indexer, copy\u001b[39m=\u001b[39mcopy\n\u001b[0;32m    777\u001b[0m )\n\u001b[0;32m    778\u001b[0m result \u001b[39m=\u001b[39m result\u001b[39m.\u001b[39m__finalize__(\u001b[39mself\u001b[39m, method\u001b[39m=\u001b[39m\u001b[39mself\u001b[39m\u001b[39m.\u001b[39m_merge_type)\n",
      "File \u001b[1;32md:\\miniconda3\\envs\\serendipity\\lib\\site-packages\\pandas\\core\\reshape\\merge.py:1058\u001b[0m, in \u001b[0;36m_MergeOperation._get_join_info\u001b[1;34m(self)\u001b[0m\n\u001b[0;32m   1056\u001b[0m             join_index \u001b[39m=\u001b[39m \u001b[39mself\u001b[39m\u001b[39m.\u001b[39mleft\u001b[39m.\u001b[39mindex\u001b[39m.\u001b[39mtake(left_indexer)\n\u001b[0;32m   1057\u001b[0m     \u001b[39melse\u001b[39;00m:\n\u001b[1;32m-> 1058\u001b[0m         join_index \u001b[39m=\u001b[39m Index(np\u001b[39m.\u001b[39;49marange(\u001b[39mlen\u001b[39;49m(left_indexer)))\n\u001b[0;32m   1060\u001b[0m \u001b[39mif\u001b[39;00m \u001b[39mlen\u001b[39m(join_index) \u001b[39m==\u001b[39m \u001b[39m0\u001b[39m:\n\u001b[0;32m   1061\u001b[0m     join_index \u001b[39m=\u001b[39m join_index\u001b[39m.\u001b[39mastype(\u001b[39mobject\u001b[39m)\n",
      "File \u001b[1;32md:\\miniconda3\\envs\\serendipity\\lib\\site-packages\\pandas\\core\\indexes\\base.py:540\u001b[0m, in \u001b[0;36mIndex.__new__\u001b[1;34m(cls, data, dtype, copy, name, tupleize_cols, **kwargs)\u001b[0m\n\u001b[0;32m    537\u001b[0m             \u001b[39mreturn\u001b[39;00m \u001b[39mcls\u001b[39m(arr, dtype, copy\u001b[39m=\u001b[39mcopy, name\u001b[39m=\u001b[39mname, \u001b[39m*\u001b[39m\u001b[39m*\u001b[39mkwargs)\n\u001b[0;32m    539\u001b[0m klass \u001b[39m=\u001b[39m \u001b[39mcls\u001b[39m\u001b[39m.\u001b[39m_dtype_to_subclass(arr\u001b[39m.\u001b[39mdtype)\n\u001b[1;32m--> 540\u001b[0m arr \u001b[39m=\u001b[39m klass\u001b[39m.\u001b[39;49m_ensure_array(arr, dtype, copy)\n\u001b[0;32m    541\u001b[0m disallow_kwargs(kwargs)\n\u001b[0;32m    542\u001b[0m \u001b[39mreturn\u001b[39;00m klass\u001b[39m.\u001b[39m_simple_new(arr, name)\n",
      "File \u001b[1;32md:\\miniconda3\\envs\\serendipity\\lib\\site-packages\\pandas\\core\\indexes\\numeric.py:166\u001b[0m, in \u001b[0;36mNumericIndex._ensure_array\u001b[1;34m(cls, data, dtype, copy)\u001b[0m\n\u001b[0;32m    160\u001b[0m \u001b[39mif\u001b[39;00m copy \u001b[39mor\u001b[39;00m \u001b[39mnot\u001b[39;00m is_dtype_equal(data\u001b[39m.\u001b[39mdtype, dtype):\n\u001b[0;32m    161\u001b[0m     \u001b[39m# TODO: the try/except below is because it's difficult to predict the error\u001b[39;00m\n\u001b[0;32m    162\u001b[0m     \u001b[39m# and/or error message from different combinations of data and dtype.\u001b[39;00m\n\u001b[0;32m    163\u001b[0m     \u001b[39m# Efforts to avoid this try/except welcome.\u001b[39;00m\n\u001b[0;32m    164\u001b[0m     \u001b[39m# See https://github.com/pandas-dev/pandas/pull/41153#discussion_r676206222\u001b[39;00m\n\u001b[0;32m    165\u001b[0m     \u001b[39mtry\u001b[39;00m:\n\u001b[1;32m--> 166\u001b[0m         subarr \u001b[39m=\u001b[39m np\u001b[39m.\u001b[39;49marray(data, dtype\u001b[39m=\u001b[39;49mdtype, copy\u001b[39m=\u001b[39;49mcopy)\n\u001b[0;32m    167\u001b[0m         \u001b[39mcls\u001b[39m\u001b[39m.\u001b[39m_validate_dtype(subarr\u001b[39m.\u001b[39mdtype)\n\u001b[0;32m    168\u001b[0m     \u001b[39mexcept\u001b[39;00m (\u001b[39mTypeError\u001b[39;00m, \u001b[39mValueError\u001b[39;00m):\n",
      "\u001b[1;31mMemoryError\u001b[0m: Unable to allocate 1.43 GiB for an array with shape (191935560,) and data type int64"
     ]
    }
   ],
   "source": [
    "# load clusters if not previously loaded\n",
    "# clusters = pd.read_csv('./output/exp-2/group_clusters.csv', usecols=['user_id', 'group'])\n",
    "\n",
    "# get per-user serendipity score\n",
    "eval_serendipity = user_serendipity(train, topk_scores)\n",
    "\n",
    "# calculate per-cluster serendipity score\n",
    "eval_serendipity_clulsters = clusters.merge(eval_serendipity, on='userID').drop(columns=['userID'])\n",
    "cluster_serendipity = eval_serendipity_clulsters.groupby('cluster_shc').mean()\n",
    "cluster_serendipity[['user_serendipity']].to_csv('./output/exp-3-epinions/baseline_serendipity.csv')"
   ]
  },
  {
   "cell_type": "code",
   "execution_count": null,
   "metadata": {},
   "outputs": [],
   "source": [
    "eval_serendipity.to_csv('./output/exp-3-epinions/user_serendipity.csv', index=False)"
   ]
  },
  {
   "attachments": {},
   "cell_type": "markdown",
   "metadata": {},
   "source": [
    "### 2.6 Infer embeddings\n",
    "\n",
    "With `infer_embedding` method of LightGCN model, we can export the embeddings of users and items in the training set to CSV files for future use."
   ]
  },
  {
   "cell_type": "code",
   "execution_count": null,
   "metadata": {},
   "outputs": [],
   "source": [
    "model.infer_embedding(user_file, item_file)"
   ]
  },
  {
   "attachments": {},
   "cell_type": "markdown",
   "metadata": {},
   "source": [
    "## 3. Compare LightGCN with SAR and NCF\n",
    "\n",
    "Here there are the performances of LightGCN compared to [SAR](../00_quick_start/sar_movielens.ipynb) and [NCF](../00_quick_start/ncf_movielens.ipynb) on MovieLens dataset of 100k and 1m. The method of data loading and splitting is the same as that described above and the GPU used was a GeForce GTX 1080Ti.\n",
    "\n",
    "Settings common to the three models: `epochs=15, seed=42`.\n",
    "\n",
    "Settings for LightGCN: `embed_size=64, n_layers=3, batch_size=1024, decay=0.0001, learning_rate=0.015 `.\n",
    "\n",
    "Settings for SAR: `similarity_type=\"jaccard\", time_decay_coefficient=30, time_now=None, timedecay_formula=True`.\n",
    "\n",
    "Settings for NCF: `n_factors=4, layer_sizes=[16, 8, 4], batch_size=1024, learning_rate=0.001`.\n",
    "\n",
    "| Data Size | Model    | Training time | Recommending time | MAP@10   | nDCG@10  | Precision@10 | Recall@10 |\n",
    "| --------- | -------- | ------------- | ----------------- | -------- | -------- | ------------ | --------- |\n",
    "| 100k      | LightGCN | 27.8865       | 0.6445            | 0.129236 | 0.436297 | 0.381866     | 0.205816  |\n",
    "| 100k      | SAR      | 0.4895        | 0.1144            | 0.110591 | 0.382461 | 0.330753     | 0.176385  |\n",
    "| 100k      | NCF      | 116.3174      | 7.7660            | 0.105725 | 0.387603 | 0.342100     | 0.174580  |\n",
    "| 1m        | LightGCN | 396.7298      | 1.4343            | 0.075012 | 0.377501 | 0.345679     | 0.128096  |\n",
    "| 1m        | SAR      | 4.5593        | 2.8357            | 0.060579 | 0.299245 | 0.270116     | 0.104350  |\n",
    "| 1m        | NCF      | 1601.5846     | 85.4567           | 0.062821 | 0.348770 | 0.320613     | 0.108121  |\n",
    "\n",
    "From the above results, we can see that LightGCN performs better than the other two models."
   ]
  },
  {
   "attachments": {},
   "cell_type": "markdown",
   "metadata": {},
   "source": [
    "### References: \n",
    "1. Xiangnan He, Kuan Deng, Xiang Wang, Yan Li, Yongdong Zhang & Meng Wang, LightGCN: Simplifying and Powering Graph Convolution Network for Recommendation, 2020, https://arxiv.org/abs/2002.02126\n",
    "2. LightGCN implementation [TensorFlow]: https://github.com/kuandeng/lightgcn\n",
    "3. Thomas N. Kipf and Max Welling, Semi-Supervised Classification with Graph Convolutional Networks, ICLR, 2017, https://arxiv.org/abs/1609.02907\n",
    "4. Xiang Wang, Xiangnan He, Meng Wang, Fuli Feng, and Tat-Seng Chua, Neural Graph Collaborative Filtering, SIGIR, 2019, https://arxiv.org/abs/1905.08108\n",
    "5. Y. Koren, R. Bell and C. Volinsky, \"Matrix Factorization Techniques for Recommender Systems\", in Computer, vol. 42, no. 8, pp. 30-37, Aug. 2009, doi: 10.1109/MC.2009.263.  url: https://datajobs.com/data-science-repo/Recommender-Systems-%5BNetflix%5D.pdf"
   ]
  }
 ],
 "metadata": {
  "celltoolbar": "Tags",
  "interpreter": {
   "hash": "3a9a0c422ff9f08d62211b9648017c63b0a26d2c935edc37ebb8453675d13bb5"
  },
  "kernelspec": {
   "display_name": "Python 3.7.11 64-bit ('tf2': conda)",
   "name": "python3"
  },
  "language_info": {
   "codemirror_mode": {
    "name": "ipython",
    "version": 3
   },
   "file_extension": ".py",
   "mimetype": "text/x-python",
   "name": "python",
   "nbconvert_exporter": "python",
   "pygments_lexer": "ipython3",
   "version": "3.9.16"
  }
 },
 "nbformat": 4,
 "nbformat_minor": 2
}
