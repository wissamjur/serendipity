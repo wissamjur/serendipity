{
 "cells": [
  {
   "cell_type": "code",
   "execution_count": null,
   "metadata": {},
   "outputs": [],
   "source": [
    "import os\n",
    "import codecs\n",
    "import pandas as pd\n",
    "\n",
    "# change dir for custom imports\n",
    "os.chdir('../')\n",
    "from scripts.dataset_downloader import initialize_dataset\n",
    "from scripts.k_means import create_clsuters, clustering_errors\n",
    "from scripts.helpers import get_most_rated_movies\n",
    "\n",
    "\n",
    "dataset = 'ml-100k'\n",
    "dataset_path = os.path.join('datasets', dataset)"
   ]
  },
  {
   "cell_type": "code",
   "execution_count": null,
   "metadata": {},
   "outputs": [],
   "source": [
    "# If dataset hasn't been previously initialized, it can be done with this function\n",
    "initialize_dataset(dataset)"
   ]
  },
  {
   "cell_type": "code",
   "execution_count": null,
   "metadata": {},
   "outputs": [],
   "source": [
    "ratings_path = os.path.join(dataset_path, 'u.data')\n",
    "items_path = os.path.join(dataset_path, 'u.item')\n",
    "genres_path = os.path.join(dataset_path, 'u.genre')\n",
    "ratings_file = codecs.open(ratings_path, 'rU', 'UTF-8')\n",
    "items_file = codecs.open(items_path, 'rU', 'latin-1')\n",
    "\n",
    "# load data\n",
    "ratings_df = pd.read_csv(ratings_file, sep='\\t', names=('user_id', 'item_id', 'rating', 'timestamp'))\n",
    "genres_df = pd.read_csv(genres_path, sep='|', names=('title', 'id'))\n",
    "cols_names = ('id', 'title', 'year', 'nan', 'link') + tuple(genres_df.title.to_list())\n",
    "items_df = pd.read_csv(items_file, sep='|', usecols=list(range(0,24)), names=cols_names).drop(columns=['nan', 'link'])\n",
    "\n",
    "# dataset stats\n",
    "print(f\"Total dataset users: {len(set(ratings_df.user_id.to_list()))}\")\n",
    "print(f\"Total dataset ratings: {len(ratings_df.user_id.to_list())}\")"
   ]
  },
  {
   "cell_type": "code",
   "execution_count": null,
   "metadata": {},
   "outputs": [],
   "source": [
    "ratings_df.head()"
   ]
  },
  {
   "cell_type": "code",
   "execution_count": null,
   "metadata": {},
   "outputs": [],
   "source": [
    "# merge the two tables then pivot so we have Users X Movies dataframe\n",
    "ratings_title = pd.merge(ratings_df, items_df[['id', 'title']], left_on='item_id', right_on='id').drop(columns=['id'])\n",
    "user_movie_ratings = pd.pivot_table(ratings_title, index='user_id', columns= 'title', values='rating')\n",
    "\n",
    "# print the number of dimensions and a subset of the dataset\n",
    "print('dataset dimensions: ', user_movie_ratings.shape, '\\n\\nSubset example:')\n",
    "user_movie_ratings.iloc[:6, :10]"
   ]
  },
  {
   "cell_type": "code",
   "execution_count": null,
   "metadata": {},
   "outputs": [],
   "source": [
    "import matplotlib.pyplot as plt\n",
    "import numpy as np\n",
    "from mpl_toolkits.axes_grid1 import make_axes_locatable\n",
    "\n",
    "# Define the plotting heatmap function\n",
    "def draw_movies_heatmap(most_rated_movies_users_selection, axis_labels=True):\n",
    "    fig = plt.figure(figsize=(15,4))\n",
    "    ax = plt.gca()\n",
    "    \n",
    "    # Draw heatmap\n",
    "    heatmap = ax.imshow(most_rated_movies_users_selection,  interpolation='nearest', vmin=0, vmax=5, aspect='auto')\n",
    "\n",
    "    if axis_labels:\n",
    "        ax.set_yticks(np.arange(most_rated_movies_users_selection.shape[0]) , minor=False)\n",
    "        ax.set_xticks(np.arange(most_rated_movies_users_selection.shape[1]) , minor=False)\n",
    "        ax.invert_yaxis()\n",
    "        ax.xaxis.tick_top()\n",
    "        labels = most_rated_movies_users_selection.columns.str[:40]\n",
    "        ax.set_xticklabels(labels, minor=False)\n",
    "        ax.set_yticklabels(most_rated_movies_users_selection.index, minor=False)\n",
    "        plt.setp(ax.get_xticklabels(), rotation=90)\n",
    "    else:\n",
    "        ax.get_xaxis().set_visible(False)\n",
    "        ax.get_yaxis().set_visible(False)\n",
    "    \n",
    "    ax.grid(False)\n",
    "    ax.set_ylabel('User id')\n",
    "    # Separate heatmap from color bar\n",
    "    divider = make_axes_locatable(ax)\n",
    "    cax = divider.append_axes(\"right\", size=\"5%\", pad=0.05)\n",
    "    # Color bar\n",
    "    cbar = fig.colorbar(heatmap, ticks=[5, 4, 3, 2, 1, 0], cax=cax)\n",
    "    cbar.ax.set_yticklabels(['5 stars', '4 stars','3 stars','2 stars','1 stars','0 stars'])\n",
    "\n",
    "plt.show()\n",
    "# Print the heatmap\n",
    "draw_movies_heatmap(user_movie_ratings.iloc[:6, :10])"
   ]
  },
  {
   "cell_type": "code",
   "execution_count": null,
   "metadata": {},
   "outputs": [],
   "source": [
    "user_movie_ratings = pd.DataFrame(user_movie_ratings).fillna(0)"
   ]
  },
  {
   "cell_type": "code",
   "execution_count": null,
   "metadata": {},
   "outputs": [],
   "source": [
    "from scipy.sparse import csr_matrix\n",
    "import scipy\n",
    "\n",
    "# Conversion to sparse csr matrix\n",
    "# sparse_ratings = csr_matrix(pd.SparseDataFrame(user_movie_ratings).to_coo())\n",
    "sparse_ratings = scipy.sparse.csr_matrix(user_movie_ratings.values)\n",
    "sparse_ratings"
   ]
  },
  {
   "cell_type": "code",
   "execution_count": null,
   "metadata": {},
   "outputs": [],
   "source": [
    "from sklearn.cluster import KMeans\n",
    "\n",
    "# 20 clusters\n",
    "predictions = KMeans(n_clusters=20, algorithm='full').fit_predict(sparse_ratings)"
   ]
  },
  {
   "cell_type": "code",
   "execution_count": null,
   "metadata": {},
   "outputs": [],
   "source": [
    "# cluster and print some of them\n",
    "clustered = pd.concat([user_movie_ratings.reset_index(), pd.DataFrame({'group':predictions})], axis=1)"
   ]
  },
  {
   "cell_type": "code",
   "execution_count": null,
   "metadata": {},
   "outputs": [],
   "source": [
    "clustered.head()"
   ]
  },
  {
   "cell_type": "code",
   "execution_count": null,
   "metadata": {},
   "outputs": [],
   "source": [
    "clustered.to_csv('./output/exp-1/clusters.csv', index=False)"
   ]
  }
 ],
 "metadata": {
  "kernelspec": {
   "display_name": "serendipity",
   "language": "python",
   "name": "python3"
  },
  "language_info": {
   "codemirror_mode": {
    "name": "ipython",
    "version": 3
   },
   "file_extension": ".py",
   "mimetype": "text/x-python",
   "name": "python",
   "nbconvert_exporter": "python",
   "pygments_lexer": "ipython3",
   "version": "3.9.16"
  },
  "orig_nbformat": 4
 },
 "nbformat": 4,
 "nbformat_minor": 2
}
